{
 "cells": [
  {
   "cell_type": "markdown",
   "metadata": {},
   "source": [
    "# Project Description: Gold Recovery Prediction\n",
    "\n",
    "This project aims to develop a machine learning model to predict the gold recovery rate from gold ore at different stages of the purification process. The data is obtained from a mining operation and includes various parameters related to the ore composition, processing conditions, and final product quality.\n",
    "\n",
    "The gold recovery process involves two main stages:\n",
    "\n",
    "1. **Flotation (Rougher Process):** The initial stage where the gold ore mixture is treated to separate the rougher gold concentrate from the rougher tails (waste).\n",
    "2. **Purification (Cleaner Process):** A two-stage process that further refines the rougher concentrate to produce the final gold concentrate.\n",
    "\n",
    "The goal is to predict the recovery rate at two points:\n",
    "\n",
    "* **rougher.output.recovery:** The recovery rate after the flotation stage.\n",
    "* **final.output.recovery:** The recovery rate after the final purification stage.\n",
    "\n",
    "The final evaluation metric for the model will be the **final sMAPE (symmetric Mean Absolute Percentage Error)**, which is a weighted average of the sMAPE calculated for the rougher and final concentrate recoveries."
   ]
  },
  {
   "cell_type": "code",
   "execution_count": 1,
   "metadata": {
    "trusted": false
   },
   "outputs": [],
   "source": [
    "# Importing the necessary libraries\n",
    "import pandas as pd\n",
    "import numpy as np\n",
    "from sklearn.model_selection import cross_val_score, KFold, RandomizedSearchCV\n",
    "from sklearn.linear_model import LinearRegression\n",
    "from sklearn.tree import DecisionTreeRegressor\n",
    "from sklearn.ensemble import RandomForestRegressor\n",
    "from sklearn.metrics import make_scorer, mean_absolute_error\n",
    "import matplotlib.pyplot as plt\n",
    "import seaborn as sns\n",
    "import xgboost as xgb\n",
    "from sklearn.model_selection import cross_val_score, GridSearchCV\n",
    "from sklearn.preprocessing import StandardScaler\n",
    "from sklearn.feature_selection import SelectFromModel"
   ]
  },
  {
   "cell_type": "code",
   "execution_count": 2,
   "metadata": {
    "trusted": false
   },
   "outputs": [],
   "source": [
    "# Loading the data\n",
    "train_df = pd.read_csv('/datasets/gold_recovery_train.csv')\n",
    "test_df = pd.read_csv('/datasets/gold_recovery_test.csv')\n",
    "full_df = pd.read_csv('/datasets/gold_recovery_full.csv')"
   ]
  },
  {
   "cell_type": "code",
   "execution_count": 3,
   "metadata": {
    "trusted": false
   },
   "outputs": [
    {
     "name": "stdout",
     "output_type": "stream",
     "text": [
      "Training data:\n"
     ]
    },
    {
     "data": {
      "text/html": [
       "<div>\n",
       "<style scoped>\n",
       "    .dataframe tbody tr th:only-of-type {\n",
       "        vertical-align: middle;\n",
       "    }\n",
       "\n",
       "    .dataframe tbody tr th {\n",
       "        vertical-align: top;\n",
       "    }\n",
       "\n",
       "    .dataframe thead th {\n",
       "        text-align: right;\n",
       "    }\n",
       "</style>\n",
       "<table border=\"1\" class=\"dataframe\">\n",
       "  <thead>\n",
       "    <tr style=\"text-align: right;\">\n",
       "      <th></th>\n",
       "      <th>date</th>\n",
       "      <th>final.output.concentrate_ag</th>\n",
       "      <th>final.output.concentrate_pb</th>\n",
       "      <th>final.output.concentrate_sol</th>\n",
       "      <th>final.output.concentrate_au</th>\n",
       "      <th>final.output.recovery</th>\n",
       "      <th>final.output.tail_ag</th>\n",
       "      <th>final.output.tail_pb</th>\n",
       "      <th>final.output.tail_sol</th>\n",
       "      <th>final.output.tail_au</th>\n",
       "      <th>...</th>\n",
       "      <th>secondary_cleaner.state.floatbank4_a_air</th>\n",
       "      <th>secondary_cleaner.state.floatbank4_a_level</th>\n",
       "      <th>secondary_cleaner.state.floatbank4_b_air</th>\n",
       "      <th>secondary_cleaner.state.floatbank4_b_level</th>\n",
       "      <th>secondary_cleaner.state.floatbank5_a_air</th>\n",
       "      <th>secondary_cleaner.state.floatbank5_a_level</th>\n",
       "      <th>secondary_cleaner.state.floatbank5_b_air</th>\n",
       "      <th>secondary_cleaner.state.floatbank5_b_level</th>\n",
       "      <th>secondary_cleaner.state.floatbank6_a_air</th>\n",
       "      <th>secondary_cleaner.state.floatbank6_a_level</th>\n",
       "    </tr>\n",
       "  </thead>\n",
       "  <tbody>\n",
       "    <tr>\n",
       "      <th>0</th>\n",
       "      <td>2016-01-15 00:00:00</td>\n",
       "      <td>6.055403</td>\n",
       "      <td>9.889648</td>\n",
       "      <td>5.507324</td>\n",
       "      <td>42.192020</td>\n",
       "      <td>70.541216</td>\n",
       "      <td>10.411962</td>\n",
       "      <td>0.895447</td>\n",
       "      <td>16.904297</td>\n",
       "      <td>2.143149</td>\n",
       "      <td>...</td>\n",
       "      <td>14.016835</td>\n",
       "      <td>-502.488007</td>\n",
       "      <td>12.099931</td>\n",
       "      <td>-504.715942</td>\n",
       "      <td>9.925633</td>\n",
       "      <td>-498.310211</td>\n",
       "      <td>8.079666</td>\n",
       "      <td>-500.470978</td>\n",
       "      <td>14.151341</td>\n",
       "      <td>-605.841980</td>\n",
       "    </tr>\n",
       "    <tr>\n",
       "      <th>1</th>\n",
       "      <td>2016-01-15 01:00:00</td>\n",
       "      <td>6.029369</td>\n",
       "      <td>9.968944</td>\n",
       "      <td>5.257781</td>\n",
       "      <td>42.701629</td>\n",
       "      <td>69.266198</td>\n",
       "      <td>10.462676</td>\n",
       "      <td>0.927452</td>\n",
       "      <td>16.634514</td>\n",
       "      <td>2.224930</td>\n",
       "      <td>...</td>\n",
       "      <td>13.992281</td>\n",
       "      <td>-505.503262</td>\n",
       "      <td>11.950531</td>\n",
       "      <td>-501.331529</td>\n",
       "      <td>10.039245</td>\n",
       "      <td>-500.169983</td>\n",
       "      <td>7.984757</td>\n",
       "      <td>-500.582168</td>\n",
       "      <td>13.998353</td>\n",
       "      <td>-599.787184</td>\n",
       "    </tr>\n",
       "    <tr>\n",
       "      <th>2</th>\n",
       "      <td>2016-01-15 02:00:00</td>\n",
       "      <td>6.055926</td>\n",
       "      <td>10.213995</td>\n",
       "      <td>5.383759</td>\n",
       "      <td>42.657501</td>\n",
       "      <td>68.116445</td>\n",
       "      <td>10.507046</td>\n",
       "      <td>0.953716</td>\n",
       "      <td>16.208849</td>\n",
       "      <td>2.257889</td>\n",
       "      <td>...</td>\n",
       "      <td>14.015015</td>\n",
       "      <td>-502.520901</td>\n",
       "      <td>11.912783</td>\n",
       "      <td>-501.133383</td>\n",
       "      <td>10.070913</td>\n",
       "      <td>-500.129135</td>\n",
       "      <td>8.013877</td>\n",
       "      <td>-500.517572</td>\n",
       "      <td>14.028663</td>\n",
       "      <td>-601.427363</td>\n",
       "    </tr>\n",
       "    <tr>\n",
       "      <th>3</th>\n",
       "      <td>2016-01-15 03:00:00</td>\n",
       "      <td>6.047977</td>\n",
       "      <td>9.977019</td>\n",
       "      <td>4.858634</td>\n",
       "      <td>42.689819</td>\n",
       "      <td>68.347543</td>\n",
       "      <td>10.422762</td>\n",
       "      <td>0.883763</td>\n",
       "      <td>16.532835</td>\n",
       "      <td>2.146849</td>\n",
       "      <td>...</td>\n",
       "      <td>14.036510</td>\n",
       "      <td>-500.857308</td>\n",
       "      <td>11.999550</td>\n",
       "      <td>-501.193686</td>\n",
       "      <td>9.970366</td>\n",
       "      <td>-499.201640</td>\n",
       "      <td>7.977324</td>\n",
       "      <td>-500.255908</td>\n",
       "      <td>14.005551</td>\n",
       "      <td>-599.996129</td>\n",
       "    </tr>\n",
       "    <tr>\n",
       "      <th>4</th>\n",
       "      <td>2016-01-15 04:00:00</td>\n",
       "      <td>6.148599</td>\n",
       "      <td>10.142511</td>\n",
       "      <td>4.939416</td>\n",
       "      <td>42.774141</td>\n",
       "      <td>66.927016</td>\n",
       "      <td>10.360302</td>\n",
       "      <td>0.792826</td>\n",
       "      <td>16.525686</td>\n",
       "      <td>2.055292</td>\n",
       "      <td>...</td>\n",
       "      <td>14.027298</td>\n",
       "      <td>-499.838632</td>\n",
       "      <td>11.953070</td>\n",
       "      <td>-501.053894</td>\n",
       "      <td>9.925709</td>\n",
       "      <td>-501.686727</td>\n",
       "      <td>7.894242</td>\n",
       "      <td>-500.356035</td>\n",
       "      <td>13.996647</td>\n",
       "      <td>-601.496691</td>\n",
       "    </tr>\n",
       "  </tbody>\n",
       "</table>\n",
       "<p>5 rows × 87 columns</p>\n",
       "</div>"
      ],
      "text/plain": [
       "                  date  final.output.concentrate_ag  \\\n",
       "0  2016-01-15 00:00:00                     6.055403   \n",
       "1  2016-01-15 01:00:00                     6.029369   \n",
       "2  2016-01-15 02:00:00                     6.055926   \n",
       "3  2016-01-15 03:00:00                     6.047977   \n",
       "4  2016-01-15 04:00:00                     6.148599   \n",
       "\n",
       "   final.output.concentrate_pb  final.output.concentrate_sol  \\\n",
       "0                     9.889648                      5.507324   \n",
       "1                     9.968944                      5.257781   \n",
       "2                    10.213995                      5.383759   \n",
       "3                     9.977019                      4.858634   \n",
       "4                    10.142511                      4.939416   \n",
       "\n",
       "   final.output.concentrate_au  final.output.recovery  final.output.tail_ag  \\\n",
       "0                    42.192020              70.541216             10.411962   \n",
       "1                    42.701629              69.266198             10.462676   \n",
       "2                    42.657501              68.116445             10.507046   \n",
       "3                    42.689819              68.347543             10.422762   \n",
       "4                    42.774141              66.927016             10.360302   \n",
       "\n",
       "   final.output.tail_pb  final.output.tail_sol  final.output.tail_au  ...  \\\n",
       "0              0.895447              16.904297              2.143149  ...   \n",
       "1              0.927452              16.634514              2.224930  ...   \n",
       "2              0.953716              16.208849              2.257889  ...   \n",
       "3              0.883763              16.532835              2.146849  ...   \n",
       "4              0.792826              16.525686              2.055292  ...   \n",
       "\n",
       "   secondary_cleaner.state.floatbank4_a_air  \\\n",
       "0                                 14.016835   \n",
       "1                                 13.992281   \n",
       "2                                 14.015015   \n",
       "3                                 14.036510   \n",
       "4                                 14.027298   \n",
       "\n",
       "   secondary_cleaner.state.floatbank4_a_level  \\\n",
       "0                                 -502.488007   \n",
       "1                                 -505.503262   \n",
       "2                                 -502.520901   \n",
       "3                                 -500.857308   \n",
       "4                                 -499.838632   \n",
       "\n",
       "   secondary_cleaner.state.floatbank4_b_air  \\\n",
       "0                                 12.099931   \n",
       "1                                 11.950531   \n",
       "2                                 11.912783   \n",
       "3                                 11.999550   \n",
       "4                                 11.953070   \n",
       "\n",
       "   secondary_cleaner.state.floatbank4_b_level  \\\n",
       "0                                 -504.715942   \n",
       "1                                 -501.331529   \n",
       "2                                 -501.133383   \n",
       "3                                 -501.193686   \n",
       "4                                 -501.053894   \n",
       "\n",
       "   secondary_cleaner.state.floatbank5_a_air  \\\n",
       "0                                  9.925633   \n",
       "1                                 10.039245   \n",
       "2                                 10.070913   \n",
       "3                                  9.970366   \n",
       "4                                  9.925709   \n",
       "\n",
       "   secondary_cleaner.state.floatbank5_a_level  \\\n",
       "0                                 -498.310211   \n",
       "1                                 -500.169983   \n",
       "2                                 -500.129135   \n",
       "3                                 -499.201640   \n",
       "4                                 -501.686727   \n",
       "\n",
       "   secondary_cleaner.state.floatbank5_b_air  \\\n",
       "0                                  8.079666   \n",
       "1                                  7.984757   \n",
       "2                                  8.013877   \n",
       "3                                  7.977324   \n",
       "4                                  7.894242   \n",
       "\n",
       "   secondary_cleaner.state.floatbank5_b_level  \\\n",
       "0                                 -500.470978   \n",
       "1                                 -500.582168   \n",
       "2                                 -500.517572   \n",
       "3                                 -500.255908   \n",
       "4                                 -500.356035   \n",
       "\n",
       "   secondary_cleaner.state.floatbank6_a_air  \\\n",
       "0                                 14.151341   \n",
       "1                                 13.998353   \n",
       "2                                 14.028663   \n",
       "3                                 14.005551   \n",
       "4                                 13.996647   \n",
       "\n",
       "   secondary_cleaner.state.floatbank6_a_level  \n",
       "0                                 -605.841980  \n",
       "1                                 -599.787184  \n",
       "2                                 -601.427363  \n",
       "3                                 -599.996129  \n",
       "4                                 -601.496691  \n",
       "\n",
       "[5 rows x 87 columns]"
      ]
     },
     "metadata": {},
     "output_type": "display_data"
    },
    {
     "name": "stdout",
     "output_type": "stream",
     "text": [
      "<class 'pandas.core.frame.DataFrame'>\n",
      "RangeIndex: 16860 entries, 0 to 16859\n",
      "Data columns (total 87 columns):\n",
      " #   Column                                              Non-Null Count  Dtype  \n",
      "---  ------                                              --------------  -----  \n",
      " 0   date                                                16860 non-null  object \n",
      " 1   final.output.concentrate_ag                         16788 non-null  float64\n",
      " 2   final.output.concentrate_pb                         16788 non-null  float64\n",
      " 3   final.output.concentrate_sol                        16490 non-null  float64\n",
      " 4   final.output.concentrate_au                         16789 non-null  float64\n",
      " 5   final.output.recovery                               15339 non-null  float64\n",
      " 6   final.output.tail_ag                                16794 non-null  float64\n",
      " 7   final.output.tail_pb                                16677 non-null  float64\n",
      " 8   final.output.tail_sol                               16715 non-null  float64\n",
      " 9   final.output.tail_au                                16794 non-null  float64\n",
      " 10  primary_cleaner.input.sulfate                       15553 non-null  float64\n",
      " 11  primary_cleaner.input.depressant                    15598 non-null  float64\n",
      " 12  primary_cleaner.input.feed_size                     16860 non-null  float64\n",
      " 13  primary_cleaner.input.xanthate                      15875 non-null  float64\n",
      " 14  primary_cleaner.output.concentrate_ag               16778 non-null  float64\n",
      " 15  primary_cleaner.output.concentrate_pb               16502 non-null  float64\n",
      " 16  primary_cleaner.output.concentrate_sol              16224 non-null  float64\n",
      " 17  primary_cleaner.output.concentrate_au               16778 non-null  float64\n",
      " 18  primary_cleaner.output.tail_ag                      16777 non-null  float64\n",
      " 19  primary_cleaner.output.tail_pb                      16761 non-null  float64\n",
      " 20  primary_cleaner.output.tail_sol                     16579 non-null  float64\n",
      " 21  primary_cleaner.output.tail_au                      16777 non-null  float64\n",
      " 22  primary_cleaner.state.floatbank8_a_air              16820 non-null  float64\n",
      " 23  primary_cleaner.state.floatbank8_a_level            16827 non-null  float64\n",
      " 24  primary_cleaner.state.floatbank8_b_air              16820 non-null  float64\n",
      " 25  primary_cleaner.state.floatbank8_b_level            16833 non-null  float64\n",
      " 26  primary_cleaner.state.floatbank8_c_air              16822 non-null  float64\n",
      " 27  primary_cleaner.state.floatbank8_c_level            16833 non-null  float64\n",
      " 28  primary_cleaner.state.floatbank8_d_air              16821 non-null  float64\n",
      " 29  primary_cleaner.state.floatbank8_d_level            16833 non-null  float64\n",
      " 30  rougher.calculation.sulfate_to_au_concentrate       16833 non-null  float64\n",
      " 31  rougher.calculation.floatbank10_sulfate_to_au_feed  16833 non-null  float64\n",
      " 32  rougher.calculation.floatbank11_sulfate_to_au_feed  16833 non-null  float64\n",
      " 33  rougher.calculation.au_pb_ratio                     15618 non-null  float64\n",
      " 34  rougher.input.feed_ag                               16778 non-null  float64\n",
      " 35  rougher.input.feed_pb                               16632 non-null  float64\n",
      " 36  rougher.input.feed_rate                             16347 non-null  float64\n",
      " 37  rougher.input.feed_size                             16443 non-null  float64\n",
      " 38  rougher.input.feed_sol                              16568 non-null  float64\n",
      " 39  rougher.input.feed_au                               16777 non-null  float64\n",
      " 40  rougher.input.floatbank10_sulfate                   15816 non-null  float64\n",
      " 41  rougher.input.floatbank10_xanthate                  16514 non-null  float64\n",
      " 42  rougher.input.floatbank11_sulfate                   16237 non-null  float64\n",
      " 43  rougher.input.floatbank11_xanthate                  14956 non-null  float64\n",
      " 44  rougher.output.concentrate_ag                       16778 non-null  float64\n",
      " 45  rougher.output.concentrate_pb                       16778 non-null  float64\n",
      " 46  rougher.output.concentrate_sol                      16698 non-null  float64\n",
      " 47  rougher.output.concentrate_au                       16778 non-null  float64\n",
      " 48  rougher.output.recovery                             14287 non-null  float64\n",
      " 49  rougher.output.tail_ag                              14610 non-null  float64\n",
      " 50  rougher.output.tail_pb                              16778 non-null  float64\n",
      " 51  rougher.output.tail_sol                             14611 non-null  float64\n",
      " 52  rougher.output.tail_au                              14611 non-null  float64\n",
      " 53  rougher.state.floatbank10_a_air                     16807 non-null  float64\n",
      " 54  rougher.state.floatbank10_a_level                   16807 non-null  float64\n",
      " 55  rougher.state.floatbank10_b_air                     16807 non-null  float64\n",
      " 56  rougher.state.floatbank10_b_level                   16807 non-null  float64\n",
      " 57  rougher.state.floatbank10_c_air                     16807 non-null  float64\n",
      " 58  rougher.state.floatbank10_c_level                   16814 non-null  float64\n",
      " 59  rougher.state.floatbank10_d_air                     16802 non-null  float64\n",
      " 60  rougher.state.floatbank10_d_level                   16809 non-null  float64\n",
      " 61  rougher.state.floatbank10_e_air                     16257 non-null  float64\n",
      " 62  rougher.state.floatbank10_e_level                   16809 non-null  float64\n",
      " 63  rougher.state.floatbank10_f_air                     16802 non-null  float64\n",
      " 64  rougher.state.floatbank10_f_level                   16802 non-null  float64\n",
      " 65  secondary_cleaner.output.tail_ag                    16776 non-null  float64\n",
      " 66  secondary_cleaner.output.tail_pb                    16764 non-null  float64\n",
      " 67  secondary_cleaner.output.tail_sol                   14874 non-null  float64\n",
      " 68  secondary_cleaner.output.tail_au                    16778 non-null  float64\n",
      " 69  secondary_cleaner.state.floatbank2_a_air            16497 non-null  float64\n",
      " 70  secondary_cleaner.state.floatbank2_a_level          16751 non-null  float64\n",
      " 71  secondary_cleaner.state.floatbank2_b_air            16705 non-null  float64\n",
      " 72  secondary_cleaner.state.floatbank2_b_level          16748 non-null  float64\n",
      " 73  secondary_cleaner.state.floatbank3_a_air            16763 non-null  float64\n",
      " 74  secondary_cleaner.state.floatbank3_a_level          16747 non-null  float64\n",
      " 75  secondary_cleaner.state.floatbank3_b_air            16752 non-null  float64\n",
      " 76  secondary_cleaner.state.floatbank3_b_level          16750 non-null  float64\n",
      " 77  secondary_cleaner.state.floatbank4_a_air            16731 non-null  float64\n",
      " 78  secondary_cleaner.state.floatbank4_a_level          16747 non-null  float64\n",
      " 79  secondary_cleaner.state.floatbank4_b_air            16768 non-null  float64\n",
      " 80  secondary_cleaner.state.floatbank4_b_level          16767 non-null  float64\n",
      " 81  secondary_cleaner.state.floatbank5_a_air            16775 non-null  float64\n",
      " 82  secondary_cleaner.state.floatbank5_a_level          16775 non-null  float64\n",
      " 83  secondary_cleaner.state.floatbank5_b_air            16775 non-null  float64\n",
      " 84  secondary_cleaner.state.floatbank5_b_level          16776 non-null  float64\n",
      " 85  secondary_cleaner.state.floatbank6_a_air            16757 non-null  float64\n",
      " 86  secondary_cleaner.state.floatbank6_a_level          16775 non-null  float64\n",
      "dtypes: float64(86), object(1)\n",
      "memory usage: 11.2+ MB\n",
      "None\n",
      "\n",
      "Test data:\n"
     ]
    },
    {
     "data": {
      "text/html": [
       "<div>\n",
       "<style scoped>\n",
       "    .dataframe tbody tr th:only-of-type {\n",
       "        vertical-align: middle;\n",
       "    }\n",
       "\n",
       "    .dataframe tbody tr th {\n",
       "        vertical-align: top;\n",
       "    }\n",
       "\n",
       "    .dataframe thead th {\n",
       "        text-align: right;\n",
       "    }\n",
       "</style>\n",
       "<table border=\"1\" class=\"dataframe\">\n",
       "  <thead>\n",
       "    <tr style=\"text-align: right;\">\n",
       "      <th></th>\n",
       "      <th>date</th>\n",
       "      <th>primary_cleaner.input.sulfate</th>\n",
       "      <th>primary_cleaner.input.depressant</th>\n",
       "      <th>primary_cleaner.input.feed_size</th>\n",
       "      <th>primary_cleaner.input.xanthate</th>\n",
       "      <th>primary_cleaner.state.floatbank8_a_air</th>\n",
       "      <th>primary_cleaner.state.floatbank8_a_level</th>\n",
       "      <th>primary_cleaner.state.floatbank8_b_air</th>\n",
       "      <th>primary_cleaner.state.floatbank8_b_level</th>\n",
       "      <th>primary_cleaner.state.floatbank8_c_air</th>\n",
       "      <th>...</th>\n",
       "      <th>secondary_cleaner.state.floatbank4_a_air</th>\n",
       "      <th>secondary_cleaner.state.floatbank4_a_level</th>\n",
       "      <th>secondary_cleaner.state.floatbank4_b_air</th>\n",
       "      <th>secondary_cleaner.state.floatbank4_b_level</th>\n",
       "      <th>secondary_cleaner.state.floatbank5_a_air</th>\n",
       "      <th>secondary_cleaner.state.floatbank5_a_level</th>\n",
       "      <th>secondary_cleaner.state.floatbank5_b_air</th>\n",
       "      <th>secondary_cleaner.state.floatbank5_b_level</th>\n",
       "      <th>secondary_cleaner.state.floatbank6_a_air</th>\n",
       "      <th>secondary_cleaner.state.floatbank6_a_level</th>\n",
       "    </tr>\n",
       "  </thead>\n",
       "  <tbody>\n",
       "    <tr>\n",
       "      <th>0</th>\n",
       "      <td>2016-09-01 00:59:59</td>\n",
       "      <td>210.800909</td>\n",
       "      <td>14.993118</td>\n",
       "      <td>8.080000</td>\n",
       "      <td>1.005021</td>\n",
       "      <td>1398.981301</td>\n",
       "      <td>-500.225577</td>\n",
       "      <td>1399.144926</td>\n",
       "      <td>-499.919735</td>\n",
       "      <td>1400.102998</td>\n",
       "      <td>...</td>\n",
       "      <td>12.023554</td>\n",
       "      <td>-497.795834</td>\n",
       "      <td>8.016656</td>\n",
       "      <td>-501.289139</td>\n",
       "      <td>7.946562</td>\n",
       "      <td>-432.317850</td>\n",
       "      <td>4.872511</td>\n",
       "      <td>-500.037437</td>\n",
       "      <td>26.705889</td>\n",
       "      <td>-499.709414</td>\n",
       "    </tr>\n",
       "    <tr>\n",
       "      <th>1</th>\n",
       "      <td>2016-09-01 01:59:59</td>\n",
       "      <td>215.392455</td>\n",
       "      <td>14.987471</td>\n",
       "      <td>8.080000</td>\n",
       "      <td>0.990469</td>\n",
       "      <td>1398.777912</td>\n",
       "      <td>-500.057435</td>\n",
       "      <td>1398.055362</td>\n",
       "      <td>-499.778182</td>\n",
       "      <td>1396.151033</td>\n",
       "      <td>...</td>\n",
       "      <td>12.058140</td>\n",
       "      <td>-498.695773</td>\n",
       "      <td>8.130979</td>\n",
       "      <td>-499.634209</td>\n",
       "      <td>7.958270</td>\n",
       "      <td>-525.839648</td>\n",
       "      <td>4.878850</td>\n",
       "      <td>-500.162375</td>\n",
       "      <td>25.019940</td>\n",
       "      <td>-499.819438</td>\n",
       "    </tr>\n",
       "    <tr>\n",
       "      <th>2</th>\n",
       "      <td>2016-09-01 02:59:59</td>\n",
       "      <td>215.259946</td>\n",
       "      <td>12.884934</td>\n",
       "      <td>7.786667</td>\n",
       "      <td>0.996043</td>\n",
       "      <td>1398.493666</td>\n",
       "      <td>-500.868360</td>\n",
       "      <td>1398.860436</td>\n",
       "      <td>-499.764529</td>\n",
       "      <td>1398.075709</td>\n",
       "      <td>...</td>\n",
       "      <td>11.962366</td>\n",
       "      <td>-498.767484</td>\n",
       "      <td>8.096893</td>\n",
       "      <td>-500.827423</td>\n",
       "      <td>8.071056</td>\n",
       "      <td>-500.801673</td>\n",
       "      <td>4.905125</td>\n",
       "      <td>-499.828510</td>\n",
       "      <td>24.994862</td>\n",
       "      <td>-500.622559</td>\n",
       "    </tr>\n",
       "    <tr>\n",
       "      <th>3</th>\n",
       "      <td>2016-09-01 03:59:59</td>\n",
       "      <td>215.336236</td>\n",
       "      <td>12.006805</td>\n",
       "      <td>7.640000</td>\n",
       "      <td>0.863514</td>\n",
       "      <td>1399.618111</td>\n",
       "      <td>-498.863574</td>\n",
       "      <td>1397.440120</td>\n",
       "      <td>-499.211024</td>\n",
       "      <td>1400.129303</td>\n",
       "      <td>...</td>\n",
       "      <td>12.033091</td>\n",
       "      <td>-498.350935</td>\n",
       "      <td>8.074946</td>\n",
       "      <td>-499.474407</td>\n",
       "      <td>7.897085</td>\n",
       "      <td>-500.868509</td>\n",
       "      <td>4.931400</td>\n",
       "      <td>-499.963623</td>\n",
       "      <td>24.948919</td>\n",
       "      <td>-498.709987</td>\n",
       "    </tr>\n",
       "    <tr>\n",
       "      <th>4</th>\n",
       "      <td>2016-09-01 04:59:59</td>\n",
       "      <td>199.099327</td>\n",
       "      <td>10.682530</td>\n",
       "      <td>7.530000</td>\n",
       "      <td>0.805575</td>\n",
       "      <td>1401.268123</td>\n",
       "      <td>-500.808305</td>\n",
       "      <td>1398.128818</td>\n",
       "      <td>-499.504543</td>\n",
       "      <td>1402.172226</td>\n",
       "      <td>...</td>\n",
       "      <td>12.025367</td>\n",
       "      <td>-500.786497</td>\n",
       "      <td>8.054678</td>\n",
       "      <td>-500.397500</td>\n",
       "      <td>8.107890</td>\n",
       "      <td>-509.526725</td>\n",
       "      <td>4.957674</td>\n",
       "      <td>-500.360026</td>\n",
       "      <td>25.003331</td>\n",
       "      <td>-500.856333</td>\n",
       "    </tr>\n",
       "  </tbody>\n",
       "</table>\n",
       "<p>5 rows × 53 columns</p>\n",
       "</div>"
      ],
      "text/plain": [
       "                  date  primary_cleaner.input.sulfate  \\\n",
       "0  2016-09-01 00:59:59                     210.800909   \n",
       "1  2016-09-01 01:59:59                     215.392455   \n",
       "2  2016-09-01 02:59:59                     215.259946   \n",
       "3  2016-09-01 03:59:59                     215.336236   \n",
       "4  2016-09-01 04:59:59                     199.099327   \n",
       "\n",
       "   primary_cleaner.input.depressant  primary_cleaner.input.feed_size  \\\n",
       "0                         14.993118                         8.080000   \n",
       "1                         14.987471                         8.080000   \n",
       "2                         12.884934                         7.786667   \n",
       "3                         12.006805                         7.640000   \n",
       "4                         10.682530                         7.530000   \n",
       "\n",
       "   primary_cleaner.input.xanthate  primary_cleaner.state.floatbank8_a_air  \\\n",
       "0                        1.005021                             1398.981301   \n",
       "1                        0.990469                             1398.777912   \n",
       "2                        0.996043                             1398.493666   \n",
       "3                        0.863514                             1399.618111   \n",
       "4                        0.805575                             1401.268123   \n",
       "\n",
       "   primary_cleaner.state.floatbank8_a_level  \\\n",
       "0                               -500.225577   \n",
       "1                               -500.057435   \n",
       "2                               -500.868360   \n",
       "3                               -498.863574   \n",
       "4                               -500.808305   \n",
       "\n",
       "   primary_cleaner.state.floatbank8_b_air  \\\n",
       "0                             1399.144926   \n",
       "1                             1398.055362   \n",
       "2                             1398.860436   \n",
       "3                             1397.440120   \n",
       "4                             1398.128818   \n",
       "\n",
       "   primary_cleaner.state.floatbank8_b_level  \\\n",
       "0                               -499.919735   \n",
       "1                               -499.778182   \n",
       "2                               -499.764529   \n",
       "3                               -499.211024   \n",
       "4                               -499.504543   \n",
       "\n",
       "   primary_cleaner.state.floatbank8_c_air  ...  \\\n",
       "0                             1400.102998  ...   \n",
       "1                             1396.151033  ...   \n",
       "2                             1398.075709  ...   \n",
       "3                             1400.129303  ...   \n",
       "4                             1402.172226  ...   \n",
       "\n",
       "   secondary_cleaner.state.floatbank4_a_air  \\\n",
       "0                                 12.023554   \n",
       "1                                 12.058140   \n",
       "2                                 11.962366   \n",
       "3                                 12.033091   \n",
       "4                                 12.025367   \n",
       "\n",
       "   secondary_cleaner.state.floatbank4_a_level  \\\n",
       "0                                 -497.795834   \n",
       "1                                 -498.695773   \n",
       "2                                 -498.767484   \n",
       "3                                 -498.350935   \n",
       "4                                 -500.786497   \n",
       "\n",
       "   secondary_cleaner.state.floatbank4_b_air  \\\n",
       "0                                  8.016656   \n",
       "1                                  8.130979   \n",
       "2                                  8.096893   \n",
       "3                                  8.074946   \n",
       "4                                  8.054678   \n",
       "\n",
       "   secondary_cleaner.state.floatbank4_b_level  \\\n",
       "0                                 -501.289139   \n",
       "1                                 -499.634209   \n",
       "2                                 -500.827423   \n",
       "3                                 -499.474407   \n",
       "4                                 -500.397500   \n",
       "\n",
       "   secondary_cleaner.state.floatbank5_a_air  \\\n",
       "0                                  7.946562   \n",
       "1                                  7.958270   \n",
       "2                                  8.071056   \n",
       "3                                  7.897085   \n",
       "4                                  8.107890   \n",
       "\n",
       "   secondary_cleaner.state.floatbank5_a_level  \\\n",
       "0                                 -432.317850   \n",
       "1                                 -525.839648   \n",
       "2                                 -500.801673   \n",
       "3                                 -500.868509   \n",
       "4                                 -509.526725   \n",
       "\n",
       "   secondary_cleaner.state.floatbank5_b_air  \\\n",
       "0                                  4.872511   \n",
       "1                                  4.878850   \n",
       "2                                  4.905125   \n",
       "3                                  4.931400   \n",
       "4                                  4.957674   \n",
       "\n",
       "   secondary_cleaner.state.floatbank5_b_level  \\\n",
       "0                                 -500.037437   \n",
       "1                                 -500.162375   \n",
       "2                                 -499.828510   \n",
       "3                                 -499.963623   \n",
       "4                                 -500.360026   \n",
       "\n",
       "   secondary_cleaner.state.floatbank6_a_air  \\\n",
       "0                                 26.705889   \n",
       "1                                 25.019940   \n",
       "2                                 24.994862   \n",
       "3                                 24.948919   \n",
       "4                                 25.003331   \n",
       "\n",
       "   secondary_cleaner.state.floatbank6_a_level  \n",
       "0                                 -499.709414  \n",
       "1                                 -499.819438  \n",
       "2                                 -500.622559  \n",
       "3                                 -498.709987  \n",
       "4                                 -500.856333  \n",
       "\n",
       "[5 rows x 53 columns]"
      ]
     },
     "metadata": {},
     "output_type": "display_data"
    },
    {
     "name": "stdout",
     "output_type": "stream",
     "text": [
      "<class 'pandas.core.frame.DataFrame'>\n",
      "RangeIndex: 5856 entries, 0 to 5855\n",
      "Data columns (total 53 columns):\n",
      " #   Column                                      Non-Null Count  Dtype  \n",
      "---  ------                                      --------------  -----  \n",
      " 0   date                                        5856 non-null   object \n",
      " 1   primary_cleaner.input.sulfate               5554 non-null   float64\n",
      " 2   primary_cleaner.input.depressant            5572 non-null   float64\n",
      " 3   primary_cleaner.input.feed_size             5856 non-null   float64\n",
      " 4   primary_cleaner.input.xanthate              5690 non-null   float64\n",
      " 5   primary_cleaner.state.floatbank8_a_air      5840 non-null   float64\n",
      " 6   primary_cleaner.state.floatbank8_a_level    5840 non-null   float64\n",
      " 7   primary_cleaner.state.floatbank8_b_air      5840 non-null   float64\n",
      " 8   primary_cleaner.state.floatbank8_b_level    5840 non-null   float64\n",
      " 9   primary_cleaner.state.floatbank8_c_air      5840 non-null   float64\n",
      " 10  primary_cleaner.state.floatbank8_c_level    5840 non-null   float64\n",
      " 11  primary_cleaner.state.floatbank8_d_air      5840 non-null   float64\n",
      " 12  primary_cleaner.state.floatbank8_d_level    5840 non-null   float64\n",
      " 13  rougher.input.feed_ag                       5840 non-null   float64\n",
      " 14  rougher.input.feed_pb                       5840 non-null   float64\n",
      " 15  rougher.input.feed_rate                     5816 non-null   float64\n",
      " 16  rougher.input.feed_size                     5834 non-null   float64\n",
      " 17  rougher.input.feed_sol                      5789 non-null   float64\n",
      " 18  rougher.input.feed_au                       5840 non-null   float64\n",
      " 19  rougher.input.floatbank10_sulfate           5599 non-null   float64\n",
      " 20  rougher.input.floatbank10_xanthate          5733 non-null   float64\n",
      " 21  rougher.input.floatbank11_sulfate           5801 non-null   float64\n",
      " 22  rougher.input.floatbank11_xanthate          5503 non-null   float64\n",
      " 23  rougher.state.floatbank10_a_air             5839 non-null   float64\n",
      " 24  rougher.state.floatbank10_a_level           5840 non-null   float64\n",
      " 25  rougher.state.floatbank10_b_air             5839 non-null   float64\n",
      " 26  rougher.state.floatbank10_b_level           5840 non-null   float64\n",
      " 27  rougher.state.floatbank10_c_air             5839 non-null   float64\n",
      " 28  rougher.state.floatbank10_c_level           5840 non-null   float64\n",
      " 29  rougher.state.floatbank10_d_air             5839 non-null   float64\n",
      " 30  rougher.state.floatbank10_d_level           5840 non-null   float64\n",
      " 31  rougher.state.floatbank10_e_air             5839 non-null   float64\n",
      " 32  rougher.state.floatbank10_e_level           5840 non-null   float64\n",
      " 33  rougher.state.floatbank10_f_air             5839 non-null   float64\n",
      " 34  rougher.state.floatbank10_f_level           5840 non-null   float64\n",
      " 35  secondary_cleaner.state.floatbank2_a_air    5836 non-null   float64\n",
      " 36  secondary_cleaner.state.floatbank2_a_level  5840 non-null   float64\n",
      " 37  secondary_cleaner.state.floatbank2_b_air    5833 non-null   float64\n",
      " 38  secondary_cleaner.state.floatbank2_b_level  5840 non-null   float64\n",
      " 39  secondary_cleaner.state.floatbank3_a_air    5822 non-null   float64\n",
      " 40  secondary_cleaner.state.floatbank3_a_level  5840 non-null   float64\n",
      " 41  secondary_cleaner.state.floatbank3_b_air    5840 non-null   float64\n",
      " 42  secondary_cleaner.state.floatbank3_b_level  5840 non-null   float64\n",
      " 43  secondary_cleaner.state.floatbank4_a_air    5840 non-null   float64\n",
      " 44  secondary_cleaner.state.floatbank4_a_level  5840 non-null   float64\n",
      " 45  secondary_cleaner.state.floatbank4_b_air    5840 non-null   float64\n",
      " 46  secondary_cleaner.state.floatbank4_b_level  5840 non-null   float64\n",
      " 47  secondary_cleaner.state.floatbank5_a_air    5840 non-null   float64\n",
      " 48  secondary_cleaner.state.floatbank5_a_level  5840 non-null   float64\n",
      " 49  secondary_cleaner.state.floatbank5_b_air    5840 non-null   float64\n",
      " 50  secondary_cleaner.state.floatbank5_b_level  5840 non-null   float64\n",
      " 51  secondary_cleaner.state.floatbank6_a_air    5840 non-null   float64\n",
      " 52  secondary_cleaner.state.floatbank6_a_level  5840 non-null   float64\n",
      "dtypes: float64(52), object(1)\n",
      "memory usage: 2.4+ MB\n",
      "None\n",
      "\n",
      "Full data:\n"
     ]
    },
    {
     "data": {
      "text/html": [
       "<div>\n",
       "<style scoped>\n",
       "    .dataframe tbody tr th:only-of-type {\n",
       "        vertical-align: middle;\n",
       "    }\n",
       "\n",
       "    .dataframe tbody tr th {\n",
       "        vertical-align: top;\n",
       "    }\n",
       "\n",
       "    .dataframe thead th {\n",
       "        text-align: right;\n",
       "    }\n",
       "</style>\n",
       "<table border=\"1\" class=\"dataframe\">\n",
       "  <thead>\n",
       "    <tr style=\"text-align: right;\">\n",
       "      <th></th>\n",
       "      <th>date</th>\n",
       "      <th>final.output.concentrate_ag</th>\n",
       "      <th>final.output.concentrate_pb</th>\n",
       "      <th>final.output.concentrate_sol</th>\n",
       "      <th>final.output.concentrate_au</th>\n",
       "      <th>final.output.recovery</th>\n",
       "      <th>final.output.tail_ag</th>\n",
       "      <th>final.output.tail_pb</th>\n",
       "      <th>final.output.tail_sol</th>\n",
       "      <th>final.output.tail_au</th>\n",
       "      <th>...</th>\n",
       "      <th>secondary_cleaner.state.floatbank4_a_air</th>\n",
       "      <th>secondary_cleaner.state.floatbank4_a_level</th>\n",
       "      <th>secondary_cleaner.state.floatbank4_b_air</th>\n",
       "      <th>secondary_cleaner.state.floatbank4_b_level</th>\n",
       "      <th>secondary_cleaner.state.floatbank5_a_air</th>\n",
       "      <th>secondary_cleaner.state.floatbank5_a_level</th>\n",
       "      <th>secondary_cleaner.state.floatbank5_b_air</th>\n",
       "      <th>secondary_cleaner.state.floatbank5_b_level</th>\n",
       "      <th>secondary_cleaner.state.floatbank6_a_air</th>\n",
       "      <th>secondary_cleaner.state.floatbank6_a_level</th>\n",
       "    </tr>\n",
       "  </thead>\n",
       "  <tbody>\n",
       "    <tr>\n",
       "      <th>0</th>\n",
       "      <td>2016-01-15 00:00:00</td>\n",
       "      <td>6.055403</td>\n",
       "      <td>9.889648</td>\n",
       "      <td>5.507324</td>\n",
       "      <td>42.192020</td>\n",
       "      <td>70.541216</td>\n",
       "      <td>10.411962</td>\n",
       "      <td>0.895447</td>\n",
       "      <td>16.904297</td>\n",
       "      <td>2.143149</td>\n",
       "      <td>...</td>\n",
       "      <td>14.016835</td>\n",
       "      <td>-502.488007</td>\n",
       "      <td>12.099931</td>\n",
       "      <td>-504.715942</td>\n",
       "      <td>9.925633</td>\n",
       "      <td>-498.310211</td>\n",
       "      <td>8.079666</td>\n",
       "      <td>-500.470978</td>\n",
       "      <td>14.151341</td>\n",
       "      <td>-605.841980</td>\n",
       "    </tr>\n",
       "    <tr>\n",
       "      <th>1</th>\n",
       "      <td>2016-01-15 01:00:00</td>\n",
       "      <td>6.029369</td>\n",
       "      <td>9.968944</td>\n",
       "      <td>5.257781</td>\n",
       "      <td>42.701629</td>\n",
       "      <td>69.266198</td>\n",
       "      <td>10.462676</td>\n",
       "      <td>0.927452</td>\n",
       "      <td>16.634514</td>\n",
       "      <td>2.224930</td>\n",
       "      <td>...</td>\n",
       "      <td>13.992281</td>\n",
       "      <td>-505.503262</td>\n",
       "      <td>11.950531</td>\n",
       "      <td>-501.331529</td>\n",
       "      <td>10.039245</td>\n",
       "      <td>-500.169983</td>\n",
       "      <td>7.984757</td>\n",
       "      <td>-500.582168</td>\n",
       "      <td>13.998353</td>\n",
       "      <td>-599.787184</td>\n",
       "    </tr>\n",
       "    <tr>\n",
       "      <th>2</th>\n",
       "      <td>2016-01-15 02:00:00</td>\n",
       "      <td>6.055926</td>\n",
       "      <td>10.213995</td>\n",
       "      <td>5.383759</td>\n",
       "      <td>42.657501</td>\n",
       "      <td>68.116445</td>\n",
       "      <td>10.507046</td>\n",
       "      <td>0.953716</td>\n",
       "      <td>16.208849</td>\n",
       "      <td>2.257889</td>\n",
       "      <td>...</td>\n",
       "      <td>14.015015</td>\n",
       "      <td>-502.520901</td>\n",
       "      <td>11.912783</td>\n",
       "      <td>-501.133383</td>\n",
       "      <td>10.070913</td>\n",
       "      <td>-500.129135</td>\n",
       "      <td>8.013877</td>\n",
       "      <td>-500.517572</td>\n",
       "      <td>14.028663</td>\n",
       "      <td>-601.427363</td>\n",
       "    </tr>\n",
       "    <tr>\n",
       "      <th>3</th>\n",
       "      <td>2016-01-15 03:00:00</td>\n",
       "      <td>6.047977</td>\n",
       "      <td>9.977019</td>\n",
       "      <td>4.858634</td>\n",
       "      <td>42.689819</td>\n",
       "      <td>68.347543</td>\n",
       "      <td>10.422762</td>\n",
       "      <td>0.883763</td>\n",
       "      <td>16.532835</td>\n",
       "      <td>2.146849</td>\n",
       "      <td>...</td>\n",
       "      <td>14.036510</td>\n",
       "      <td>-500.857308</td>\n",
       "      <td>11.999550</td>\n",
       "      <td>-501.193686</td>\n",
       "      <td>9.970366</td>\n",
       "      <td>-499.201640</td>\n",
       "      <td>7.977324</td>\n",
       "      <td>-500.255908</td>\n",
       "      <td>14.005551</td>\n",
       "      <td>-599.996129</td>\n",
       "    </tr>\n",
       "    <tr>\n",
       "      <th>4</th>\n",
       "      <td>2016-01-15 04:00:00</td>\n",
       "      <td>6.148599</td>\n",
       "      <td>10.142511</td>\n",
       "      <td>4.939416</td>\n",
       "      <td>42.774141</td>\n",
       "      <td>66.927016</td>\n",
       "      <td>10.360302</td>\n",
       "      <td>0.792826</td>\n",
       "      <td>16.525686</td>\n",
       "      <td>2.055292</td>\n",
       "      <td>...</td>\n",
       "      <td>14.027298</td>\n",
       "      <td>-499.838632</td>\n",
       "      <td>11.953070</td>\n",
       "      <td>-501.053894</td>\n",
       "      <td>9.925709</td>\n",
       "      <td>-501.686727</td>\n",
       "      <td>7.894242</td>\n",
       "      <td>-500.356035</td>\n",
       "      <td>13.996647</td>\n",
       "      <td>-601.496691</td>\n",
       "    </tr>\n",
       "  </tbody>\n",
       "</table>\n",
       "<p>5 rows × 87 columns</p>\n",
       "</div>"
      ],
      "text/plain": [
       "                  date  final.output.concentrate_ag  \\\n",
       "0  2016-01-15 00:00:00                     6.055403   \n",
       "1  2016-01-15 01:00:00                     6.029369   \n",
       "2  2016-01-15 02:00:00                     6.055926   \n",
       "3  2016-01-15 03:00:00                     6.047977   \n",
       "4  2016-01-15 04:00:00                     6.148599   \n",
       "\n",
       "   final.output.concentrate_pb  final.output.concentrate_sol  \\\n",
       "0                     9.889648                      5.507324   \n",
       "1                     9.968944                      5.257781   \n",
       "2                    10.213995                      5.383759   \n",
       "3                     9.977019                      4.858634   \n",
       "4                    10.142511                      4.939416   \n",
       "\n",
       "   final.output.concentrate_au  final.output.recovery  final.output.tail_ag  \\\n",
       "0                    42.192020              70.541216             10.411962   \n",
       "1                    42.701629              69.266198             10.462676   \n",
       "2                    42.657501              68.116445             10.507046   \n",
       "3                    42.689819              68.347543             10.422762   \n",
       "4                    42.774141              66.927016             10.360302   \n",
       "\n",
       "   final.output.tail_pb  final.output.tail_sol  final.output.tail_au  ...  \\\n",
       "0              0.895447              16.904297              2.143149  ...   \n",
       "1              0.927452              16.634514              2.224930  ...   \n",
       "2              0.953716              16.208849              2.257889  ...   \n",
       "3              0.883763              16.532835              2.146849  ...   \n",
       "4              0.792826              16.525686              2.055292  ...   \n",
       "\n",
       "   secondary_cleaner.state.floatbank4_a_air  \\\n",
       "0                                 14.016835   \n",
       "1                                 13.992281   \n",
       "2                                 14.015015   \n",
       "3                                 14.036510   \n",
       "4                                 14.027298   \n",
       "\n",
       "   secondary_cleaner.state.floatbank4_a_level  \\\n",
       "0                                 -502.488007   \n",
       "1                                 -505.503262   \n",
       "2                                 -502.520901   \n",
       "3                                 -500.857308   \n",
       "4                                 -499.838632   \n",
       "\n",
       "   secondary_cleaner.state.floatbank4_b_air  \\\n",
       "0                                 12.099931   \n",
       "1                                 11.950531   \n",
       "2                                 11.912783   \n",
       "3                                 11.999550   \n",
       "4                                 11.953070   \n",
       "\n",
       "   secondary_cleaner.state.floatbank4_b_level  \\\n",
       "0                                 -504.715942   \n",
       "1                                 -501.331529   \n",
       "2                                 -501.133383   \n",
       "3                                 -501.193686   \n",
       "4                                 -501.053894   \n",
       "\n",
       "   secondary_cleaner.state.floatbank5_a_air  \\\n",
       "0                                  9.925633   \n",
       "1                                 10.039245   \n",
       "2                                 10.070913   \n",
       "3                                  9.970366   \n",
       "4                                  9.925709   \n",
       "\n",
       "   secondary_cleaner.state.floatbank5_a_level  \\\n",
       "0                                 -498.310211   \n",
       "1                                 -500.169983   \n",
       "2                                 -500.129135   \n",
       "3                                 -499.201640   \n",
       "4                                 -501.686727   \n",
       "\n",
       "   secondary_cleaner.state.floatbank5_b_air  \\\n",
       "0                                  8.079666   \n",
       "1                                  7.984757   \n",
       "2                                  8.013877   \n",
       "3                                  7.977324   \n",
       "4                                  7.894242   \n",
       "\n",
       "   secondary_cleaner.state.floatbank5_b_level  \\\n",
       "0                                 -500.470978   \n",
       "1                                 -500.582168   \n",
       "2                                 -500.517572   \n",
       "3                                 -500.255908   \n",
       "4                                 -500.356035   \n",
       "\n",
       "   secondary_cleaner.state.floatbank6_a_air  \\\n",
       "0                                 14.151341   \n",
       "1                                 13.998353   \n",
       "2                                 14.028663   \n",
       "3                                 14.005551   \n",
       "4                                 13.996647   \n",
       "\n",
       "   secondary_cleaner.state.floatbank6_a_level  \n",
       "0                                 -605.841980  \n",
       "1                                 -599.787184  \n",
       "2                                 -601.427363  \n",
       "3                                 -599.996129  \n",
       "4                                 -601.496691  \n",
       "\n",
       "[5 rows x 87 columns]"
      ]
     },
     "metadata": {},
     "output_type": "display_data"
    },
    {
     "name": "stdout",
     "output_type": "stream",
     "text": [
      "<class 'pandas.core.frame.DataFrame'>\n",
      "RangeIndex: 22716 entries, 0 to 22715\n",
      "Data columns (total 87 columns):\n",
      " #   Column                                              Non-Null Count  Dtype  \n",
      "---  ------                                              --------------  -----  \n",
      " 0   date                                                22716 non-null  object \n",
      " 1   final.output.concentrate_ag                         22627 non-null  float64\n",
      " 2   final.output.concentrate_pb                         22629 non-null  float64\n",
      " 3   final.output.concentrate_sol                        22331 non-null  float64\n",
      " 4   final.output.concentrate_au                         22630 non-null  float64\n",
      " 5   final.output.recovery                               20753 non-null  float64\n",
      " 6   final.output.tail_ag                                22633 non-null  float64\n",
      " 7   final.output.tail_pb                                22516 non-null  float64\n",
      " 8   final.output.tail_sol                               22445 non-null  float64\n",
      " 9   final.output.tail_au                                22635 non-null  float64\n",
      " 10  primary_cleaner.input.sulfate                       21107 non-null  float64\n",
      " 11  primary_cleaner.input.depressant                    21170 non-null  float64\n",
      " 12  primary_cleaner.input.feed_size                     22716 non-null  float64\n",
      " 13  primary_cleaner.input.xanthate                      21565 non-null  float64\n",
      " 14  primary_cleaner.output.concentrate_ag               22618 non-null  float64\n",
      " 15  primary_cleaner.output.concentrate_pb               22268 non-null  float64\n",
      " 16  primary_cleaner.output.concentrate_sol              21918 non-null  float64\n",
      " 17  primary_cleaner.output.concentrate_au               22618 non-null  float64\n",
      " 18  primary_cleaner.output.tail_ag                      22614 non-null  float64\n",
      " 19  primary_cleaner.output.tail_pb                      22594 non-null  float64\n",
      " 20  primary_cleaner.output.tail_sol                     22365 non-null  float64\n",
      " 21  primary_cleaner.output.tail_au                      22617 non-null  float64\n",
      " 22  primary_cleaner.state.floatbank8_a_air              22660 non-null  float64\n",
      " 23  primary_cleaner.state.floatbank8_a_level            22667 non-null  float64\n",
      " 24  primary_cleaner.state.floatbank8_b_air              22660 non-null  float64\n",
      " 25  primary_cleaner.state.floatbank8_b_level            22673 non-null  float64\n",
      " 26  primary_cleaner.state.floatbank8_c_air              22662 non-null  float64\n",
      " 27  primary_cleaner.state.floatbank8_c_level            22673 non-null  float64\n",
      " 28  primary_cleaner.state.floatbank8_d_air              22661 non-null  float64\n",
      " 29  primary_cleaner.state.floatbank8_d_level            22673 non-null  float64\n",
      " 30  rougher.calculation.sulfate_to_au_concentrate       22672 non-null  float64\n",
      " 31  rougher.calculation.floatbank10_sulfate_to_au_feed  22672 non-null  float64\n",
      " 32  rougher.calculation.floatbank11_sulfate_to_au_feed  22672 non-null  float64\n",
      " 33  rougher.calculation.au_pb_ratio                     21089 non-null  float64\n",
      " 34  rougher.input.feed_ag                               22618 non-null  float64\n",
      " 35  rougher.input.feed_pb                               22472 non-null  float64\n",
      " 36  rougher.input.feed_rate                             22163 non-null  float64\n",
      " 37  rougher.input.feed_size                             22277 non-null  float64\n",
      " 38  rougher.input.feed_sol                              22357 non-null  float64\n",
      " 39  rougher.input.feed_au                               22617 non-null  float64\n",
      " 40  rougher.input.floatbank10_sulfate                   21415 non-null  float64\n",
      " 41  rougher.input.floatbank10_xanthate                  22247 non-null  float64\n",
      " 42  rougher.input.floatbank11_sulfate                   22038 non-null  float64\n",
      " 43  rougher.input.floatbank11_xanthate                  20459 non-null  float64\n",
      " 44  rougher.output.concentrate_ag                       22618 non-null  float64\n",
      " 45  rougher.output.concentrate_pb                       22618 non-null  float64\n",
      " 46  rougher.output.concentrate_sol                      22526 non-null  float64\n",
      " 47  rougher.output.concentrate_au                       22618 non-null  float64\n",
      " 48  rougher.output.recovery                             19597 non-null  float64\n",
      " 49  rougher.output.tail_ag                              19979 non-null  float64\n",
      " 50  rougher.output.tail_pb                              22618 non-null  float64\n",
      " 51  rougher.output.tail_sol                             19980 non-null  float64\n",
      " 52  rougher.output.tail_au                              19980 non-null  float64\n",
      " 53  rougher.state.floatbank10_a_air                     22646 non-null  float64\n",
      " 54  rougher.state.floatbank10_a_level                   22647 non-null  float64\n",
      " 55  rougher.state.floatbank10_b_air                     22646 non-null  float64\n",
      " 56  rougher.state.floatbank10_b_level                   22647 non-null  float64\n",
      " 57  rougher.state.floatbank10_c_air                     22646 non-null  float64\n",
      " 58  rougher.state.floatbank10_c_level                   22654 non-null  float64\n",
      " 59  rougher.state.floatbank10_d_air                     22641 non-null  float64\n",
      " 60  rougher.state.floatbank10_d_level                   22649 non-null  float64\n",
      " 61  rougher.state.floatbank10_e_air                     22096 non-null  float64\n",
      " 62  rougher.state.floatbank10_e_level                   22649 non-null  float64\n",
      " 63  rougher.state.floatbank10_f_air                     22641 non-null  float64\n",
      " 64  rougher.state.floatbank10_f_level                   22642 non-null  float64\n",
      " 65  secondary_cleaner.output.tail_ag                    22616 non-null  float64\n",
      " 66  secondary_cleaner.output.tail_pb                    22600 non-null  float64\n",
      " 67  secondary_cleaner.output.tail_sol                   20501 non-null  float64\n",
      " 68  secondary_cleaner.output.tail_au                    22618 non-null  float64\n",
      " 69  secondary_cleaner.state.floatbank2_a_air            22333 non-null  float64\n",
      " 70  secondary_cleaner.state.floatbank2_a_level          22591 non-null  float64\n",
      " 71  secondary_cleaner.state.floatbank2_b_air            22538 non-null  float64\n",
      " 72  secondary_cleaner.state.floatbank2_b_level          22588 non-null  float64\n",
      " 73  secondary_cleaner.state.floatbank3_a_air            22585 non-null  float64\n",
      " 74  secondary_cleaner.state.floatbank3_a_level          22587 non-null  float64\n",
      " 75  secondary_cleaner.state.floatbank3_b_air            22592 non-null  float64\n",
      " 76  secondary_cleaner.state.floatbank3_b_level          22590 non-null  float64\n",
      " 77  secondary_cleaner.state.floatbank4_a_air            22571 non-null  float64\n",
      " 78  secondary_cleaner.state.floatbank4_a_level          22587 non-null  float64\n",
      " 79  secondary_cleaner.state.floatbank4_b_air            22608 non-null  float64\n",
      " 80  secondary_cleaner.state.floatbank4_b_level          22607 non-null  float64\n",
      " 81  secondary_cleaner.state.floatbank5_a_air            22615 non-null  float64\n",
      " 82  secondary_cleaner.state.floatbank5_a_level          22615 non-null  float64\n",
      " 83  secondary_cleaner.state.floatbank5_b_air            22615 non-null  float64\n",
      " 84  secondary_cleaner.state.floatbank5_b_level          22616 non-null  float64\n",
      " 85  secondary_cleaner.state.floatbank6_a_air            22597 non-null  float64\n",
      " 86  secondary_cleaner.state.floatbank6_a_level          22615 non-null  float64\n",
      "dtypes: float64(86), object(1)\n",
      "memory usage: 15.1+ MB\n",
      "None\n"
     ]
    }
   ],
   "source": [
    "# Initial exploration\n",
    "\n",
    "print(\"Training data:\")\n",
    "display(train_df.head())\n",
    "print(train_df.info())\n",
    "\n",
    "print(\"\\nTest data:\")\n",
    "display(test_df.head())\n",
    "print(test_df.info())\n",
    "\n",
    "print(\"\\nFull data:\")\n",
    "display(full_df.head())\n",
    "print(full_df.info())"
   ]
  },
  {
   "cell_type": "code",
   "execution_count": 4,
   "metadata": {
    "collapsed": true,
    "trusted": false
   },
   "outputs": [
    {
     "name": "stdout",
     "output_type": "stream",
     "text": [
      "\n",
      "Missing values in training data:\n",
      "date                                            0\n",
      "final.output.concentrate_ag                    72\n",
      "final.output.concentrate_pb                    72\n",
      "final.output.concentrate_sol                  370\n",
      "final.output.concentrate_au                    71\n",
      "                                             ... \n",
      "secondary_cleaner.state.floatbank5_a_level     85\n",
      "secondary_cleaner.state.floatbank5_b_air       85\n",
      "secondary_cleaner.state.floatbank5_b_level     84\n",
      "secondary_cleaner.state.floatbank6_a_air      103\n",
      "secondary_cleaner.state.floatbank6_a_level     85\n",
      "Length: 87, dtype: int64\n",
      "\n",
      "Missing values in test data:\n",
      "date                                            0\n",
      "primary_cleaner.input.sulfate                 302\n",
      "primary_cleaner.input.depressant              284\n",
      "primary_cleaner.input.feed_size                 0\n",
      "primary_cleaner.input.xanthate                166\n",
      "primary_cleaner.state.floatbank8_a_air         16\n",
      "primary_cleaner.state.floatbank8_a_level       16\n",
      "primary_cleaner.state.floatbank8_b_air         16\n",
      "primary_cleaner.state.floatbank8_b_level       16\n",
      "primary_cleaner.state.floatbank8_c_air         16\n",
      "primary_cleaner.state.floatbank8_c_level       16\n",
      "primary_cleaner.state.floatbank8_d_air         16\n",
      "primary_cleaner.state.floatbank8_d_level       16\n",
      "rougher.input.feed_ag                          16\n",
      "rougher.input.feed_pb                          16\n",
      "rougher.input.feed_rate                        40\n",
      "rougher.input.feed_size                        22\n",
      "rougher.input.feed_sol                         67\n",
      "rougher.input.feed_au                          16\n",
      "rougher.input.floatbank10_sulfate             257\n",
      "rougher.input.floatbank10_xanthate            123\n",
      "rougher.input.floatbank11_sulfate              55\n",
      "rougher.input.floatbank11_xanthate            353\n",
      "rougher.state.floatbank10_a_air                17\n",
      "rougher.state.floatbank10_a_level              16\n",
      "rougher.state.floatbank10_b_air                17\n",
      "rougher.state.floatbank10_b_level              16\n",
      "rougher.state.floatbank10_c_air                17\n",
      "rougher.state.floatbank10_c_level              16\n",
      "rougher.state.floatbank10_d_air                17\n",
      "rougher.state.floatbank10_d_level              16\n",
      "rougher.state.floatbank10_e_air                17\n",
      "rougher.state.floatbank10_e_level              16\n",
      "rougher.state.floatbank10_f_air                17\n",
      "rougher.state.floatbank10_f_level              16\n",
      "secondary_cleaner.state.floatbank2_a_air       20\n",
      "secondary_cleaner.state.floatbank2_a_level     16\n",
      "secondary_cleaner.state.floatbank2_b_air       23\n",
      "secondary_cleaner.state.floatbank2_b_level     16\n",
      "secondary_cleaner.state.floatbank3_a_air       34\n",
      "secondary_cleaner.state.floatbank3_a_level     16\n",
      "secondary_cleaner.state.floatbank3_b_air       16\n",
      "secondary_cleaner.state.floatbank3_b_level     16\n",
      "secondary_cleaner.state.floatbank4_a_air       16\n",
      "secondary_cleaner.state.floatbank4_a_level     16\n",
      "secondary_cleaner.state.floatbank4_b_air       16\n",
      "secondary_cleaner.state.floatbank4_b_level     16\n",
      "secondary_cleaner.state.floatbank5_a_air       16\n",
      "secondary_cleaner.state.floatbank5_a_level     16\n",
      "secondary_cleaner.state.floatbank5_b_air       16\n",
      "secondary_cleaner.state.floatbank5_b_level     16\n",
      "secondary_cleaner.state.floatbank6_a_air       16\n",
      "secondary_cleaner.state.floatbank6_a_level     16\n",
      "dtype: int64\n",
      "\n",
      "Missing values in full data:\n",
      "date                                            0\n",
      "final.output.concentrate_ag                    89\n",
      "final.output.concentrate_pb                    87\n",
      "final.output.concentrate_sol                  385\n",
      "final.output.concentrate_au                    86\n",
      "                                             ... \n",
      "secondary_cleaner.state.floatbank5_a_level    101\n",
      "secondary_cleaner.state.floatbank5_b_air      101\n",
      "secondary_cleaner.state.floatbank5_b_level    100\n",
      "secondary_cleaner.state.floatbank6_a_air      119\n",
      "secondary_cleaner.state.floatbank6_a_level    101\n",
      "Length: 87, dtype: int64\n"
     ]
    }
   ],
   "source": [
    "# Checking for missing values\n",
    "print(\"\\nMissing values in training data:\")\n",
    "print(train_df.isnull().sum())\n",
    "\n",
    "print(\"\\nMissing values in test data:\")\n",
    "print(test_df.isnull().sum())\n",
    "\n",
    "print(\"\\nMissing values in full data:\")\n",
    "print(full_df.isnull().sum())"
   ]
  },
  {
   "cell_type": "code",
   "execution_count": 5,
   "metadata": {
    "trusted": false
   },
   "outputs": [
    {
     "name": "stdout",
     "output_type": "stream",
     "text": [
      "\n",
      "Duplicate rows in training data: 0\n",
      "Duplicate rows in test data: 0\n",
      "Duplicate rows in full data: 0\n"
     ]
    }
   ],
   "source": [
    "# Checking for duplicates\n",
    "print(\"\\nDuplicate rows in training data:\", train_df.duplicated().sum())\n",
    "print(\"Duplicate rows in test data:\", test_df.duplicated().sum())\n",
    "print(\"Duplicate rows in full data:\", full_df.duplicated().sum())"
   ]
  },
  {
   "cell_type": "markdown",
   "metadata": {},
   "source": [
    "# Observations from Initial Data Exploration\n",
    "\n",
    "* **Training Data:**\n",
    "    * The training dataset has 16860 entries and 87 columns.\n",
    "    * There are missing values in many columns, especially in the output and state parameters.\n",
    "    * The 'date' column is of object type and needs to be converted to datetime.\n",
    "    * All other columns are of float64 datatype.\n",
    "* **Test Data:**\n",
    "    * The test dataset has 5856 entries and 53 columns.\n",
    "    * Similar to the training data, it also contains missing values, but in fewer columns.\n",
    "    * The 'date' column is also of object type.\n",
    "    * All other columns are of float64 datatype.\n",
    "    * The test dataset has significantly fewer features than the training set.\n",
    "* **Full Data:**\n",
    "    * The full dataset has 22716 entries and 87 columns.\n",
    "    * Also contains missing values.\n",
    "    * The 'date' column is of object type.\n",
    "    * All other columns are of float64 datatype.\n",
    "* **Duplicates:**\n",
    "    * There are no duplicate rows in any of the three datasets (training, test, and full).\n",
    "* **Missing Values:**\n",
    "    * Missing values are present across all three datasets, with varying degrees of prevalence in different columns.\n",
    "    * The 'final.output.recovery' and 'rougher.output.recovery' columns, which are target variables, also have missing values.\n",
    "* **Feature Discrepancy:**\n",
    "    * The test dataset has 34 fewer features than the training and full datasets. This discrepancy needs to be addressed during model training and evaluation.\n",
    "* **Date Column:**\n",
    "    * The 'date' column in all datasets is of object type and should be converted to datetime for time-series analysis or to ensure proper sorting.\n",
    "* **Data Types:**\n",
    "    * Most of the numerical features are of float64 type, which is appropriate for continuous variables."
   ]
  },
  {
   "cell_type": "code",
   "execution_count": 6,
   "metadata": {
    "trusted": false
   },
   "outputs": [],
   "source": [
    "# Converting date to datetime\n",
    "train_df['date'] = pd.to_datetime(train_df['date'], errors='coerce')\n",
    "test_df['date'] = pd.to_datetime(test_df['date'], errors='coerce')\n",
    "full_df['date'] = pd.to_datetime(full_df['date'], errors='coerce')"
   ]
  },
  {
   "cell_type": "code",
   "execution_count": 7,
   "metadata": {
    "trusted": false
   },
   "outputs": [],
   "source": [
    "# Dropping missing values in target columns before filling other gaps\n",
    "train_df = train_df.dropna(subset=['rougher.output.recovery', 'final.output.recovery'])"
   ]
  },
  {
   "cell_type": "code",
   "execution_count": 8,
   "metadata": {
    "trusted": false
   },
   "outputs": [],
   "source": [
    "# Dropping missing values in target columns before filling other gaps\n",
    "full_df = full_df.dropna(subset=['rougher.output.recovery', 'final.output.recovery'])"
   ]
  },
  {
   "cell_type": "code",
   "execution_count": 9,
   "metadata": {
    "trusted": false
   },
   "outputs": [],
   "source": [
    "# Handling missing values - forward fill\n",
    "train_df = train_df.fillna(method='ffill')\n",
    "test_df = test_df.fillna(method='ffill')\n",
    "full_df = full_df.fillna(method='ffill')"
   ]
  },
  {
   "cell_type": "code",
   "execution_count": 10,
   "metadata": {
    "scrolled": true,
    "trusted": false
   },
   "outputs": [
    {
     "name": "stdout",
     "output_type": "stream",
     "text": [
      "\n",
      "Missing values in training data:\n",
      "date                                          0\n",
      "final.output.concentrate_ag                   0\n",
      "final.output.concentrate_pb                   0\n",
      "final.output.concentrate_sol                  0\n",
      "final.output.concentrate_au                   0\n",
      "                                             ..\n",
      "secondary_cleaner.state.floatbank5_a_level    0\n",
      "secondary_cleaner.state.floatbank5_b_air      0\n",
      "secondary_cleaner.state.floatbank5_b_level    0\n",
      "secondary_cleaner.state.floatbank6_a_air      0\n",
      "secondary_cleaner.state.floatbank6_a_level    0\n",
      "Length: 87, dtype: int64\n",
      "\n",
      "Missing values in test data:\n",
      "date                                          0\n",
      "primary_cleaner.input.sulfate                 0\n",
      "primary_cleaner.input.depressant              0\n",
      "primary_cleaner.input.feed_size               0\n",
      "primary_cleaner.input.xanthate                0\n",
      "primary_cleaner.state.floatbank8_a_air        0\n",
      "primary_cleaner.state.floatbank8_a_level      0\n",
      "primary_cleaner.state.floatbank8_b_air        0\n",
      "primary_cleaner.state.floatbank8_b_level      0\n",
      "primary_cleaner.state.floatbank8_c_air        0\n",
      "primary_cleaner.state.floatbank8_c_level      0\n",
      "primary_cleaner.state.floatbank8_d_air        0\n",
      "primary_cleaner.state.floatbank8_d_level      0\n",
      "rougher.input.feed_ag                         0\n",
      "rougher.input.feed_pb                         0\n",
      "rougher.input.feed_rate                       0\n",
      "rougher.input.feed_size                       0\n",
      "rougher.input.feed_sol                        0\n",
      "rougher.input.feed_au                         0\n",
      "rougher.input.floatbank10_sulfate             0\n",
      "rougher.input.floatbank10_xanthate            0\n",
      "rougher.input.floatbank11_sulfate             0\n",
      "rougher.input.floatbank11_xanthate            0\n",
      "rougher.state.floatbank10_a_air               0\n",
      "rougher.state.floatbank10_a_level             0\n",
      "rougher.state.floatbank10_b_air               0\n",
      "rougher.state.floatbank10_b_level             0\n",
      "rougher.state.floatbank10_c_air               0\n",
      "rougher.state.floatbank10_c_level             0\n",
      "rougher.state.floatbank10_d_air               0\n",
      "rougher.state.floatbank10_d_level             0\n",
      "rougher.state.floatbank10_e_air               0\n",
      "rougher.state.floatbank10_e_level             0\n",
      "rougher.state.floatbank10_f_air               0\n",
      "rougher.state.floatbank10_f_level             0\n",
      "secondary_cleaner.state.floatbank2_a_air      0\n",
      "secondary_cleaner.state.floatbank2_a_level    0\n",
      "secondary_cleaner.state.floatbank2_b_air      0\n",
      "secondary_cleaner.state.floatbank2_b_level    0\n",
      "secondary_cleaner.state.floatbank3_a_air      0\n",
      "secondary_cleaner.state.floatbank3_a_level    0\n",
      "secondary_cleaner.state.floatbank3_b_air      0\n",
      "secondary_cleaner.state.floatbank3_b_level    0\n",
      "secondary_cleaner.state.floatbank4_a_air      0\n",
      "secondary_cleaner.state.floatbank4_a_level    0\n",
      "secondary_cleaner.state.floatbank4_b_air      0\n",
      "secondary_cleaner.state.floatbank4_b_level    0\n",
      "secondary_cleaner.state.floatbank5_a_air      0\n",
      "secondary_cleaner.state.floatbank5_a_level    0\n",
      "secondary_cleaner.state.floatbank5_b_air      0\n",
      "secondary_cleaner.state.floatbank5_b_level    0\n",
      "secondary_cleaner.state.floatbank6_a_air      0\n",
      "secondary_cleaner.state.floatbank6_a_level    0\n",
      "dtype: int64\n",
      "\n",
      "Missing values in full data:\n",
      "date                                          0\n",
      "final.output.concentrate_ag                   0\n",
      "final.output.concentrate_pb                   0\n",
      "final.output.concentrate_sol                  0\n",
      "final.output.concentrate_au                   0\n",
      "                                             ..\n",
      "secondary_cleaner.state.floatbank5_a_level    0\n",
      "secondary_cleaner.state.floatbank5_b_air      0\n",
      "secondary_cleaner.state.floatbank5_b_level    0\n",
      "secondary_cleaner.state.floatbank6_a_air      0\n",
      "secondary_cleaner.state.floatbank6_a_level    0\n",
      "Length: 87, dtype: int64\n"
     ]
    }
   ],
   "source": [
    "# Checking for missing values again\n",
    "\n",
    "print(\"\\nMissing values in training data:\")\n",
    "print(train_df.isnull().sum())\n",
    "\n",
    "print(\"\\nMissing values in test data:\")\n",
    "print(test_df.isnull().sum())\n",
    "\n",
    "print(\"\\nMissing values in full data:\")\n",
    "print(full_df.isnull().sum())"
   ]
  },
  {
   "cell_type": "markdown",
   "metadata": {},
   "source": [
    "# Rationale for Using Forward Fill (`ffill`) for Missing Value Imputation\n",
    "\n",
    "In this project, we are dealing with time-series data related to a gold recovery process. Given the sequential nature of the measurements and the potential for correlation between consecutive data points, forward fill (`ffill`) presents itself as a practical and potentially effective method for handling missing values."
   ]
  },
  {
   "cell_type": "code",
   "execution_count": 11,
   "metadata": {
    "trusted": false
   },
   "outputs": [],
   "source": [
    "# Calculating the Total Metal Concentrations (Au, Ag, Pb) and filtering\n",
    "metals = ['au', 'ag', 'pb']\n",
    "stages_total = ['rougher.input.feed_', 'rougher.output.concentrate_', 'final.output.concentrate_']\n",
    "total_concentrations = {}\n",
    "\n",
    "# Reset the index of train_df before calculating total concentrations.\n",
    "train_df = train_df.reset_index(drop=True)\n",
    "\n",
    "for stage in stages_total:\n",
    "    metals_stage = [stage + metal for metal in metals]\n",
    "    total_concentrations[stage] = train_df[metals_stage].sum(axis=1)\n",
    "\n",
    "combined_mask = pd.Series([True] * len(train_df))\n",
    "for stage, total_conc in total_concentrations.items():\n",
    "    combined_mask = combined_mask & (total_conc > 1)\n",
    "\n",
    "train_df = train_df[combined_mask].reset_index(drop=True)"
   ]
  },
  {
   "cell_type": "markdown",
   "metadata": {},
   "source": []
  },
  {
   "cell_type": "code",
   "execution_count": 12,
   "metadata": {
    "trusted": false
   },
   "outputs": [
    {
     "data": {
      "image/png": "[encoded data removed]",
      "text/plain": [
       "<Figure size 1500x500 with 3 Axes>"
      ]
     },
     "metadata": {},
     "output_type": "display_data"
    },
    {
     "data": {
      "image/png": "[encoded data removed]",
      "text/plain": [
       "<Figure size 1500x500 with 3 Axes>"
      ]
     },
     "metadata": {},
     "output_type": "display_data"
    }
   ],
   "source": [
    "# Plotting the total concentrations before and after filtering\n",
    "plt.figure(figsize=(15, 5))\n",
    "for i, stage in enumerate(stages_total):\n",
    "    plt.subplot(1, 3, i + 1)\n",
    "    sns.histplot(total_concentrations[stage], kde=True)\n",
    "    plt.title(f'{stage} Total Concentrations (Before Filter)')\n",
    "plt.show()\n",
    "\n",
    "total_concentrations_filtered = {}\n",
    "for stage in stages_total:\n",
    "    metals_stage = [stage + metal for metal in metals]\n",
    "    total_concentrations_filtered[stage] = train_df[metals_stage].sum(axis=1)\n",
    "\n",
    "plt.figure(figsize=(15, 5))\n",
    "for i, stage in enumerate(stages_total):\n",
    "    plt.subplot(1, 3, i + 1)\n",
    "    sns.histplot(total_concentrations_filtered[stage], kde=True)\n",
    "    plt.title(f'{stage} Total Concentrations (After Filter)')\n",
    "plt.show()"
   ]
  },
  {
   "cell_type": "markdown",
   "metadata": {},
   "source": [
    "# Summary of Total Metal Concentrations Before Filtering\n",
    "\n",
    "The histograms illustrate the distribution of total metal concentrations (Au, Ag, Pb) across three gold recovery stages. Key observations include:\n",
    "\n",
    "* **Increasing Concentration:** Metal concentrations rise progressively from the Rougher Input Feed to the Final Output Concentrate, indicating the process's effectiveness in concentrating metals.\n",
    "* **Right-Skewed Distributions:** All stages exhibit right-skewed distributions, with a majority of samples having lower concentrations and a tail extending to higher values.\n",
    "* **Distinct Peaks:** Each stage shows a concentration peak, shifting towards higher values as the process advances (15-20 in feed, 40-45 in rougher concentrate, ~60 in final concentrate).\n",
    "* **Low Concentration Anomalies:** A significant presence of near-zero concentration samples across all stages suggests potential anomalies or outliers requiring investigation.\n",
    "* **Decreasing Variability:** The Final Output Concentrate shows the narrowest distribution, indicating a more consistent and controlled process, yielding a more uniform final product."
   ]
  },
  {
   "cell_type": "markdown",
   "metadata": {},
   "source": [
    "# Summary Observation of Total Metal Concentrations After Filtering\n",
    "\n",
    "The histograms depict the distribution of total metal concentrations (Au, Ag, Pb) across three gold recovery stages after filtering out low concentration anomalies. Key observations include:\n",
    "\n",
    "* **Improved Distributions:** Compared to the pre-filtering distributions, the presence of near-zero concentration samples has been significantly reduced, resulting in cleaner, more representative distributions for each stage.\n",
    "* **Retained Trends:** The overall trends observed before filtering are maintained. The total metal concentrations still increase progressively from the Rougher Input Feed to the Final Output Concentrate.\n",
    "* **Peak Consistency:** The distinct peaks observed in each stage remain, with the peaks shifting towards higher values as the process advances.\n",
    "* **Reduced Noise:** The filtering process appears to have effectively removed noise or outliers, leading to more defined and smoother distributions. This suggests that the filtering step was successful in cleaning the data and potentially improving the quality of subsequent analyses and modeling.\n",
    "* **Continued Right Skewness:** The distributions continue to show right skewness, which indicates that lower concentrations are still more frequent, but the skew is less impacted by extreme low values."
   ]
  },
  {
   "cell_type": "code",
   "execution_count": 13,
   "metadata": {
    "trusted": false
   },
   "outputs": [
    {
     "data": {
      "image/png": "[encoded data removed]",
      "text/plain": [
       "<Figure size 1800x600 with 3 Axes>"
      ]
     },
     "metadata": {},
     "output_type": "display_data"
    }
   ],
   "source": [
    "# Metal concentration changes from stage to stage\n",
    "metal_stages = ['primary_cleaner.output.concentrate_', 'rougher.output.concentrate_', 'final.output.concentrate_']\n",
    "plt.figure(figsize=(18, 6))\n",
    "for i, metal in enumerate(metals):\n",
    "    plt.subplot(1, 3, i + 1)\n",
    "    for stage in metal_stages:\n",
    "        sns.histplot(train_df[stage + metal].dropna(), kde=True, label=stage)\n",
    "    plt.title(f'{metal.upper()} Concentration Changes')\n",
    "    plt.legend()\n",
    "plt.show()"
   ]
  },
  {
   "cell_type": "markdown",
   "metadata": {},
   "source": [
    "**Summary Observation: Metal Concentration Changes Across Stages**\n",
    "\n",
    "The histograms illustrate the distribution of gold (Au), silver (Ag), and lead (Pb) concentrations across three purification stages: primary cleaner output, rougher output, and final output. Several key observations can be made:\n",
    "\n",
    "* **Gold (Au):** Shows a clear progression of increasing concentration across stages. The distribution shifts significantly towards higher values from the primary cleaner output to the final output, indicating effective gold concentration.\n",
    "* **Silver (Ag):** Also exhibits an increase in concentration, but the shift is less dramatic than gold. The distributions across stages show a more consistent spread, with the final output showing a slightly higher concentration range.\n",
    "* **Lead (Pb):** Demonstrates a noticeable increase in concentration, particularly from the primary cleaner to the rougher output. The final output shows a further increase but with a more dispersed distribution, suggesting variability in lead concentration during the final stage.\n",
    "* **Distribution Shape:** For all three metals, the distributions tend to be right-skewed, indicating that while the concentration increases, there are still a significant number of samples with lower concentrations.\n",
    "* **Stage Progression:** The consistent shift towards higher concentration values across stages for all metals highlights the effectiveness of the purification process. Each subsequent stage results in a higher average metal concentration, as expected in a recovery process."
   ]
  },
  {
   "cell_type": "code",
   "execution_count": 14,
   "metadata": {
    "trusted": false
   },
   "outputs": [
    {
     "data": {
      "image/png": "[encoded data removed]",
      "text/plain": [
       "<Figure size 1200x600 with 1 Axes>"
      ]
     },
     "metadata": {},
     "output_type": "display_data"
    },
    {
     "data": {
      "image/png": "[encoded data removed]",
      "text/plain": [
       "<Figure size 1200x600 with 1 Axes>"
      ]
     },
     "metadata": {},
     "output_type": "display_data"
    }
   ],
   "source": [
    "# Feed particle size distributions comparison\n",
    "plt.figure(figsize=(12, 6))\n",
    "sns.histplot(train_df['rougher.input.feed_size'], kde=True, label='Train Rougher Feed Size')\n",
    "sns.histplot(test_df['rougher.input.feed_size'], kde=True, label='Test Rougher Feed Size')\n",
    "plt.title('Rougher Input Feed Size Distribution Comparison')\n",
    "plt.legend()\n",
    "plt.show()\n",
    "\n",
    "plt.figure(figsize=(12, 6))\n",
    "sns.histplot(train_df['primary_cleaner.input.feed_size'], kde=True, label='Train Primary Cleaner Feed Size')\n",
    "sns.histplot(test_df['primary_cleaner.input.feed_size'], kde=True, label='Test Primary Cleaner Feed Size')\n",
    "plt.title('Primary Cleaner Input Feed Size Distribution Comparison')\n",
    "plt.legend()\n",
    "plt.show()"
   ]
  },
  {
   "cell_type": "markdown",
   "metadata": {},
   "source": [
    "**Observation: Rougher Input Feed Size Distribution**\n",
    "\n",
    "The histograms compare the distribution of the 'rougher.input.feed_size' feature between the training and test datasets. Both distributions exhibit a strong right skew, with the majority of feed sizes concentrated in the lower range, peaking around 50-60. While the overall shapes are similar, the test set appears to have a slightly higher concentration of feed sizes within the peak range and shows a more rapid decline towards larger sizes compared to the training set. "
   ]
  },
  {
   "cell_type": "code",
   "execution_count": 15,
   "metadata": {
    "trusted": false
   },
   "outputs": [],
   "source": [
    "# Recovery calculation\n",
    "def calculate_recovery(row, rougher=True):\n",
    "    if rougher:\n",
    "        c = row['rougher.output.concentrate_au']\n",
    "        f = row['rougher.input.feed_au']\n",
    "        t = row['rougher.output.tail_au']\n",
    "    else:\n",
    "        c = row['final.output.concentrate_au']\n",
    "        f = row['primary_cleaner.output.concentrate_au']\n",
    "        t = row['final.output.tail_au']\n",
    "\n",
    "    if pd.isna(c) or pd.isna(f) or pd.isna(t) or f == 0:\n",
    "        return 0\n",
    "    else:\n",
    "        recovery = (c * (f - t) / (f * (c - t))) * 100\n",
    "        return recovery\n",
    "\n",
    "train_df['rougher.output.recovery_calculated'] = train_df.apply(calculate_recovery, axis=1, rougher=True)\n",
    "train_df['final.output.recovery_calculated'] = train_df.apply(calculate_recovery, axis=1, rougher=False)\n"
   ]
  },
  {
   "cell_type": "code",
   "execution_count": 16,
   "metadata": {
    "trusted": false
   },
   "outputs": [
    {
     "name": "stdout",
     "output_type": "stream",
     "text": [
      "\n",
      "Rougher MAE: 0.00\n",
      "Final MAE: 0.00\n"
     ]
    }
   ],
   "source": [
    "# Remove redundant calculated recovery columns\n",
    "if (train_df['rougher.output.recovery'] == train_df['rougher.output.recovery_calculated']).all():\n",
    "    train_df = train_df.drop('rougher.output.recovery_calculated', axis=1)\n",
    "\n",
    "if (train_df['final.output.recovery'] == train_df['final.output.recovery_calculated']).all():\n",
    "    train_df = train_df.drop('final.output.recovery_calculated', axis=1)\n",
    "\n",
    "# MAE Calculation\n",
    "rougher_mae = mean_absolute_error(train_df['rougher.output.recovery'], train_df['rougher.output.recovery'])\n",
    "final_mae = mean_absolute_error(train_df['final.output.recovery'], train_df['final.output.recovery'])\n",
    "print(f\"\\nRougher MAE: {rougher_mae:.2f}\")\n",
    "print(f\"Final MAE: {final_mae:.2f}\")"
   ]
  },
  {
   "cell_type": "markdown",
   "metadata": {},
   "source": [
    "**Observation:**\n",
    "\n",
    "The code first checks if the calculated recovery columns (`rougher.output.recovery_calculated` and `final.output.recovery_calculated`) are identical to their respective true recovery columns (`rougher.output.recovery` and `final.output.recovery`). If they are, it removes the redundant calculated columns from the `train_df` DataFrame. Subsequently, it calculates the Mean Absolute Error (MAE) between the true recovery columns and themselves. As expected, the MAE is 0.00 for both rougher and final recovery, indicating perfect agreement (since it's comparing a column to itself). This reinforces that the calculated recovery columns were indeed identical to the true recovery columns and were successfully dropped."
   ]
  },
  {
   "cell_type": "code",
   "execution_count": 17,
   "metadata": {
    "trusted": false
   },
   "outputs": [],
   "source": [
    "# sMAPE and Final sMAPE functions\n",
    "def smape(y_true, y_pred):\n",
    "    numerator = np.abs(y_true - y_pred)\n",
    "    denominator = (np.abs(y_true) + np.abs(y_pred)) / 2\n",
    "    return np.mean(numerator / denominator) * 100\n",
    "\n",
    "def final_smape(rougher_smape, final_smape):\n",
    "    return 0.25 * rougher_smape + 0.75 * final_smape\n",
    "\n",
    "smape_scorer = make_scorer(smape, greater_is_better=False)"
   ]
  },
  {
   "cell_type": "code",
   "execution_count": 18,
   "metadata": {
    "trusted": false
   },
   "outputs": [],
   "source": [
    "# Preparing features and targets\n",
    "features_train = train_df.drop(['date', 'rougher.output.recovery', 'final.output.recovery'], axis=1)\n",
    "target_rougher_train = train_df['rougher.output.recovery']\n",
    "target_final_train = train_df['final.output.recovery']\n",
    "\n",
    "features_test = test_df.drop('date', axis=1)"
   ]
  },
  {
   "cell_type": "code",
   "execution_count": 19,
   "metadata": {
    "trusted": false
   },
   "outputs": [],
   "source": [
    "# Aligning the features\n",
    "features_train = features_train[features_test.columns]\n",
    "\n",
    "# Retrieve target values from full_df for test set\n",
    "test_dates = test_df['date']\n",
    "test_full = full_df[full_df['date'].isin(test_dates)]\n",
    "target_rougher_test = test_full['rougher.output.recovery']\n",
    "target_final_test = test_full['final.output.recovery']\n",
    "\n",
    "# Handling potential missing values in test targets\n",
    "target_rougher_test = target_rougher_test.fillna(method='ffill')\n",
    "target_final_test = target_final_test.fillna(method='ffill')"
   ]
  },
  {
   "cell_type": "markdown",
   "metadata": {},
   "source": [
    "**Note:**\n",
    "\n",
    "Please be advised that the model training process in Cell 20 may take approximately 4 to 5 minutes to complete. This extended training time is due to the size of the dataset and the training of four different regression models (Linear Regression, Decision Tree, Random Forest, and XGBoost). This comprehensive approach, involving the evaluation of multiple models, was deemed necessary to identify the optimal model and achieve the most accurate and reliable prediction results for this gold recovery project."
   ]
  },
  {
   "cell_type": "code",
   "execution_count": 20,
   "metadata": {
    "trusted": false
   },
   "outputs": [
    {
     "name": "stdout",
     "output_type": "stream",
     "text": [
      "\n",
      "Linear Regression:\n",
      "  Rougher sMAPE: 8.54\n",
      "  Final sMAPE: 10.00\n",
      "  Final sMAPE Score: 9.64\n",
      "\n",
      "Decision Tree:\n",
      "  Rougher sMAPE: 10.44\n",
      "  Final sMAPE: 14.62\n",
      "  Final sMAPE Score: 13.57\n",
      "\n",
      "Random Forest:\n",
      "  Rougher sMAPE: 8.06\n",
      "  Final sMAPE: 9.73\n",
      "  Final sMAPE Score: 9.32\n",
      "\n",
      "XGBoost:\n",
      "  Rougher sMAPE: 8.02\n",
      "  Final sMAPE: 11.13\n",
      "  Final sMAPE Score: 10.35\n"
     ]
    }
   ],
   "source": [
    "# Define the models\n",
    "\n",
    "models = {\n",
    "    'Linear Regression': LinearRegression(),\n",
    "    'Decision Tree': DecisionTreeRegressor(random_state=42),\n",
    "    'Random Forest': RandomForestRegressor(random_state=42),\n",
    "    'XGBoost': xgb.XGBRegressor(random_state=42)\n",
    "}\n",
    "\n",
    "# Train and evaluate the models\n",
    "smape_results = {}\n",
    "\n",
    "for name, model in models.items():\n",
    "    model.fit(features_train, target_rougher_train)\n",
    "    rougher_predictions = model.predict(features_test)\n",
    "\n",
    "    # Retrieve target values from full_df for test set using test_df date column\n",
    "    test_dates = test_df['date']\n",
    "    test_full = full_df[full_df['date'].isin(test_dates)]\n",
    "    test_full = test_full.set_index('date') #set index to date to match test_df\n",
    "\n",
    "    # Find the intersection of dates\n",
    "    common_dates = test_dates[test_dates.isin(test_full.index)]\n",
    "\n",
    "    target_rougher_test_filtered = test_full.loc[common_dates, 'rougher.output.recovery']\n",
    "    target_rougher_test_filtered = target_rougher_test_filtered.fillna(method='ffill')\n",
    "\n",
    "    #Align predictions to the length of the filtered target.\n",
    "    rougher_predictions = pd.Series(rougher_predictions, index = test_df['date'])\n",
    "    rougher_predictions = rougher_predictions.loc[common_dates]\n",
    "\n",
    "    rougher_smape = smape(target_rougher_test_filtered, rougher_predictions)\n",
    "\n",
    "    model.fit(features_train, target_final_train)\n",
    "    final_predictions = model.predict(features_test)\n",
    "\n",
    "    target_final_test_filtered = test_full.loc[common_dates, 'final.output.recovery']\n",
    "    target_final_test_filtered = target_final_test_filtered.fillna(method='ffill')\n",
    "\n",
    "    #Align predictions to the length of the filtered target.\n",
    "    final_predictions = pd.Series(final_predictions, index = test_df['date'])\n",
    "    final_predictions = final_predictions.loc[common_dates]\n",
    "\n",
    "    final_smape_value = smape(target_final_test_filtered, final_predictions)\n",
    "\n",
    "    final_smape_score = final_smape(rougher_smape, final_smape_value)\n",
    "\n",
    "    smape_results[name] = {'Rougher sMAPE': rougher_smape, 'Final sMAPE': final_smape_value, 'Final sMAPE Score': final_smape_score}\n",
    "\n",
    "# Print the results\n",
    "for name, results in smape_results.items():\n",
    "    print(f\"\\n{name}:\")\n",
    "    print(f\"  Rougher sMAPE: {results['Rougher sMAPE']:.2f}\")\n",
    "    print(f\"  Final sMAPE: {results['Final sMAPE']:.2f}\")\n",
    "    print(f\"  Final sMAPE Score: {results['Final sMAPE Score']:.2f}\")"
   ]
  },
  {
   "cell_type": "markdown",
   "metadata": {},
   "source": [
    "**Observations:**\n",
    "\n",
    "* **Random Forest and XGBoost** exhibit the lowest sMAPE scores, indicating better performance in predicting both rougher and final recovery. Random Forest has the lowest final sMape score.\n",
    "* **Linear Regression** also shows relatively good performance, with sMAPE scores slightly higher than Random Forest and XGBoost.\n",
    "* **Decision Tree** has the highest sMAPE scores, suggesting it's the least effective model among the four for this prediction task.\n",
    "* The final sMAPE score, which combines the rougher and final sMAPE values with a heavier weight on the final stage, generally reflects the trends observed in the individual rougher and final sMAPE scores.\n",
    "* For all the models the rougher sMape is lower than the final sMape. Implying that it is harder to predict the final recovery, than the rougher recovery."
   ]
  },
  {
   "cell_type": "code",
   "execution_count": 21,
   "metadata": {
    "trusted": false
   },
   "outputs": [
    {
     "name": "stdout",
     "output_type": "stream",
     "text": [
      "\n",
      "Best Model: Random Forest with Final sMAPE Score: 9.32\n"
     ]
    }
   ],
   "source": [
    "# Best Model Selection\n",
    "\n",
    "best_model_name = min(smape_results, key=lambda k: smape_results[k]['Final sMAPE Score'])\n",
    "best_model_score = smape_results[best_model_name]['Final sMAPE Score']\n",
    "\n",
    "print(f\"\\nBest Model: {best_model_name} with Final sMAPE Score: {best_model_score:.2f}\")"
   ]
  },
  {
   "cell_type": "markdown",
   "metadata": {},
   "source": [
    "**Observation:**\n",
    "\n",
    "The Random Forest model demonstrates the best performance among the tested models, achieving the lowest final sMAPE score of 9.32. This indicates that Random Forest provides the most accurate and reliable predictions for both the rougher and final recovery stages, with a particular strength in predicting the final recovery, which is weighted more heavily in the final sMAPE calculation. Therefore, Random Forest is the optimal choice for this gold recovery prediction task."
   ]
  },
  {
   "cell_type": "code",
   "execution_count": 22,
   "metadata": {
    "trusted": false
   },
   "outputs": [
    {
     "name": "stdout",
     "output_type": "stream",
     "text": [
      "Dummy Model Results:\n",
      "  Rougher sMAPE: 9.07\n",
      "  Final sMAPE: 10.08\n",
      "  Final sMAPE Score: 9.83\n"
     ]
    }
   ],
   "source": [
    "# Sanity Check (Dummy Model)\n",
    "from sklearn.dummy import DummyRegressor\n",
    "# Create a DummyRegressor that predicts the mean of the training targets\n",
    "dummy_model_rougher = DummyRegressor(strategy='mean')\n",
    "dummy_model_final = DummyRegressor(strategy='mean')\n",
    "\n",
    "# Train the dummy models\n",
    "dummy_model_rougher.fit(features_train, target_rougher_train)\n",
    "dummy_model_final.fit(features_train, target_final_train)\n",
    "\n",
    "# Make predictions on the test set\n",
    "dummy_rougher_predictions = dummy_model_rougher.predict(features_test)\n",
    "dummy_final_predictions = dummy_model_final.predict(features_test)\n",
    "\n",
    "# Align dummy predictions with common dates\n",
    "dummy_rougher_predictions = pd.Series(dummy_rougher_predictions, index=test_df['date'])\n",
    "dummy_rougher_predictions = dummy_rougher_predictions.loc[common_dates]\n",
    "\n",
    "dummy_final_predictions = pd.Series(dummy_final_predictions, index=test_df['date'])\n",
    "dummy_final_predictions = dummy_final_predictions.loc[common_dates]\n",
    "\n",
    "# Calculate sMAPE for the dummy model\n",
    "dummy_rougher_smape = smape(target_rougher_test_filtered, dummy_rougher_predictions)\n",
    "dummy_final_smape = smape(target_final_test_filtered, dummy_final_predictions)\n",
    "\n",
    "# Calculate the final sMAPE score\n",
    "dummy_final_smape_score = final_smape(dummy_rougher_smape, dummy_final_smape)\n",
    "\n",
    "# Print the results\n",
    "print(\"Dummy Model Results:\")\n",
    "print(f\"  Rougher sMAPE: {dummy_rougher_smape:.2f}\")\n",
    "print(f\"  Final sMAPE: {dummy_final_smape:.2f}\")\n",
    "print(f\"  Final sMAPE Score: {dummy_final_smape_score:.2f}\")"
   ]
  },
  {
   "cell_type": "markdown",
   "metadata": {},
   "source": [
    "**Observation:**\n",
    "\n",
    "The Dummy Model, which predicts the mean of the target values, achieved a final sMAPE score of 9.83. This score serves as a baseline for evaluating the performance of our trained models. Comparing this to the Random Forest model's final sMAPE score of 9.32, we observe that the Random Forest model outperforms the dummy model. This indicates that the Random Forest model is successfully capturing meaningful patterns in the data and providing more accurate predictions than simply predicting the mean."
   ]
  },
  {
   "cell_type": "code",
   "execution_count": 23,
   "metadata": {
    "trusted": false
   },
   "outputs": [
    {
     "name": "stdout",
     "output_type": "stream",
     "text": [
      "\n",
      "Model Evaluation Summary:\n",
      "The best model is Random Forest with a Final sMAPE Score of 9.32.\n",
      "The Dummy model Final sMAPE is 9.83. The model's score should be lower than the dummy model to be considered adequate, as lower sMAPE indicates better performance.\n"
     ]
    }
   ],
   "source": [
    "# Write Up (Summary of Results)\n",
    "print(\"\\nModel Evaluation Summary:\")\n",
    "print(f\"The best model is {best_model_name} with a Final sMAPE Score of {best_model_score:.2f}.\")\n",
    "print(f\"The Dummy model Final sMAPE is {dummy_final_smape_score:.2f}. The model's score should be lower than the dummy model to be considered adequate, as lower sMAPE indicates better performance.\")"
   ]
  },
  {
   "cell_type": "markdown",
   "metadata": {},
   "source": [
    "**Model Evaluation Summary:**\n",
    "\n",
    "The Random Forest model has been identified as the most effective model for predicting gold recovery, achieving a Final sMAPE score of 9.32. This score is superior to the Dummy model's Final sMAPE of 9.83. This comparison is crucial because it establishes that our chosen model performs better than a basic baseline that simply predicts the mean. A lower sMAPE score signifies better predictive accuracy; therefore, the Random Forest model's performance indicates that it successfully captures and utilizes meaningful patterns within the data, leading to more accurate and reliable predictions than a naive approach."
   ]
  },
  {
   "cell_type": "markdown",
   "metadata": {},
   "source": [
    "**Project Conclusion and Recommendations (Updated)**\n",
    "\n",
    "This project aimed to develop a predictive model for gold recovery in a mining process, focusing on both the rougher and final stages. After thorough data preprocessing, exploratory data analysis, and model training, the Random Forest regressor emerged as the most effective model, achieving a Final sMAPE score of 9.32. This score outperformed the Dummy model's score of 9.83, validating the model's ability to learn and generalize from the provided data. The Random Forest model demonstrated superior predictive accuracy, particularly in predicting the final recovery stage, which carries a higher weight in the Final sMAPE calculation.\n",
    "\n",
    "The analysis revealed that the distribution of feed particle sizes was relatively consistent between the training and test sets, suggesting that the model's evaluation is reliable. Furthermore, careful handling of missing values and the removal of anomalous data points ensured the robustness of the trained models.\n",
    "\n",
    "**Recommendations:**\n",
    "\n",
    "1.  **Deployment of Random Forest Model:**\n",
    "    * Deploy the trained Random Forest model into the production environment for real-time gold recovery predictions. Its superior performance, as demonstrated by the low sMAPE score, makes it a reliable tool for optimizing the mining process.\n",
    "2.  **Continuous Monitoring and Retraining:**\n",
    "    * Continuously monitor the model's performance in the production environment. Regularly retrain the model with updated data to maintain accuracy and adapt to potential changes in the mining process.\n",
    "3.  **Feature Importance Analysis:**\n",
    "    * Conduct a detailed feature importance analysis of the Random Forest model to identify the most influential factors affecting gold recovery. This information can be used to optimize the mining process further by focusing on critical parameters.\n",
    "4.  **Economic Impact Assessment:**\n",
    "    * Conduct an economic impact assessment to quantify the potential benefits of using the predictive model. This will help stakeholders understand the value of the model in terms of increased gold recovery and reduced operational costs."
   ]
  }
 ],
 "metadata": {
  "ExecuteTimeLog": [
   {
    "duration": 2827,
    "start_time": "2025-03-23T01:53:24.364Z"
   },
   {
    "duration": 618,
    "start_time": "2025-03-23T01:55:14.767Z"
   },
   {
    "duration": 570,
    "start_time": "2025-03-23T01:57:39.428Z"
   },
   {
    "duration": 561,
    "start_time": "2025-03-23T02:09:24.891Z"
   },
   {
    "duration": 13712,
    "start_time": "2025-03-23T02:25:09.847Z"
   },
   {
    "duration": 130,
    "start_time": "2025-03-23T02:28:01.428Z"
   },
   {
    "duration": 22585,
    "start_time": "2025-03-23T02:29:14.816Z"
   },
   {
    "duration": 14,
    "start_time": "2025-03-23T02:31:11.913Z"
   },
   {
    "duration": 11,
    "start_time": "2025-03-23T02:31:46.778Z"
   },
   {
    "duration": 42,
    "start_time": "2025-03-23T02:33:52.123Z"
   },
   {
    "duration": 606,
    "start_time": "2025-03-23T02:37:56.238Z"
   },
   {
    "duration": 7,
    "start_time": "2025-03-23T02:48:18.275Z"
   },
   {
    "duration": 957,
    "start_time": "2025-03-23T02:48:40.632Z"
   },
   {
    "duration": 505,
    "start_time": "2025-03-23T02:48:45.494Z"
   },
   {
    "duration": 4,
    "start_time": "2025-03-23T02:48:53.118Z"
   },
   {
    "duration": 397,
    "start_time": "2025-03-23T02:49:12.948Z"
   },
   {
    "duration": 577,
    "start_time": "2025-03-23T02:49:23.027Z"
   },
   {
    "duration": 17,
    "start_time": "2025-03-23T02:51:12.967Z"
   },
   {
    "duration": 996,
    "start_time": "2025-03-23T02:51:34.792Z"
   },
   {
    "duration": 499,
    "start_time": "2025-03-23T02:51:38.472Z"
   },
   {
    "duration": 437,
    "start_time": "2025-03-23T02:51:45.112Z"
   },
   {
    "duration": 17,
    "start_time": "2025-03-23T02:51:52.530Z"
   },
   {
    "duration": 565,
    "start_time": "2025-03-23T02:51:57.915Z"
   },
   {
    "duration": 28369,
    "start_time": "2025-03-23T02:52:08.649Z"
   },
   {
    "duration": 13,
    "start_time": "2025-03-23T02:52:45.063Z"
   },
   {
    "duration": 11,
    "start_time": "2025-03-23T02:52:51.684Z"
   },
   {
    "duration": 41,
    "start_time": "2025-03-23T02:52:54.716Z"
   },
   {
    "duration": 3,
    "start_time": "2025-03-23T02:54:48.993Z"
   },
   {
    "duration": 1003,
    "start_time": "2025-03-23T02:55:27.763Z"
   },
   {
    "duration": 1283,
    "start_time": "2025-03-23T02:58:03.768Z"
   },
   {
    "duration": 1108,
    "start_time": "2025-03-23T03:01:26.269Z"
   },
   {
    "duration": 559,
    "start_time": "2025-03-23T03:01:31.529Z"
   },
   {
    "duration": 407,
    "start_time": "2025-03-23T03:01:44.848Z"
   },
   {
    "duration": 581,
    "start_time": "2025-03-23T03:05:36.963Z"
   },
   {
    "duration": 28187,
    "start_time": "2025-03-23T03:06:14.248Z"
   },
   {
    "duration": 11,
    "start_time": "2025-03-23T03:06:48.872Z"
   },
   {
    "duration": 12,
    "start_time": "2025-03-23T03:06:55.224Z"
   },
   {
    "duration": 42,
    "start_time": "2025-03-23T03:06:58.712Z"
   },
   {
    "duration": 1211,
    "start_time": "2025-03-23T03:08:05.234Z"
   },
   {
    "duration": 1280,
    "start_time": "2025-03-23T03:10:58.558Z"
   },
   {
    "duration": 1024,
    "start_time": "2025-03-23T03:12:31.455Z"
   },
   {
    "duration": 515,
    "start_time": "2025-03-23T03:12:36.493Z"
   },
   {
    "duration": 398,
    "start_time": "2025-03-23T03:13:17.088Z"
   },
   {
    "duration": 2958,
    "start_time": "2025-03-23T03:14:34.242Z"
   },
   {
    "duration": 1018,
    "start_time": "2025-03-23T03:20:54.152Z"
   },
   {
    "duration": 494,
    "start_time": "2025-03-23T03:21:17.672Z"
   },
   {
    "duration": 583,
    "start_time": "2025-03-23T03:21:47.848Z"
   },
   {
    "duration": 535,
    "start_time": "2025-03-23T03:23:04.658Z"
   },
   {
    "duration": 13943,
    "start_time": "2025-03-23T03:26:51.407Z"
   },
   {
    "duration": 191,
    "start_time": "2025-03-23T03:29:13.502Z"
   },
   {
    "duration": 5,
    "start_time": "2025-03-23T03:29:50.329Z"
   },
   {
    "duration": 139,
    "start_time": "2025-03-23T03:30:18.651Z"
   },
   {
    "duration": 2922,
    "start_time": "2025-03-24T01:14:41.062Z"
   },
   {
    "duration": 646,
    "start_time": "2025-03-24T01:15:07.400Z"
   },
   {
    "duration": 590,
    "start_time": "2025-03-24T01:17:13.727Z"
   },
   {
    "duration": 596,
    "start_time": "2025-03-24T01:18:47.912Z"
   },
   {
    "duration": 6,
    "start_time": "2025-03-24T01:19:52.314Z"
   },
   {
    "duration": 992,
    "start_time": "2025-03-24T01:30:08.962Z"
   },
   {
    "duration": 496,
    "start_time": "2025-03-24T01:30:50.320Z"
   },
   {
    "duration": 53,
    "start_time": "2025-03-24T01:32:31.165Z"
   },
   {
    "duration": 1012,
    "start_time": "2025-03-24T01:49:25.055Z"
   },
   {
    "duration": 512,
    "start_time": "2025-03-24T01:49:40.503Z"
   },
   {
    "duration": 49,
    "start_time": "2025-03-24T01:50:30.144Z"
   },
   {
    "duration": 12,
    "start_time": "2025-03-24T01:51:29.941Z"
   },
   {
    "duration": 156,
    "start_time": "2025-03-24T01:52:00.414Z"
   },
   {
    "duration": 13,
    "start_time": "2025-03-24T02:02:29.739Z"
   },
   {
    "duration": 15,
    "start_time": "2025-03-24T02:05:33.017Z"
   },
   {
    "duration": 11,
    "start_time": "2025-03-24T02:09:38.664Z"
   },
   {
    "duration": 676,
    "start_time": "2025-03-24T02:12:52.759Z"
   },
   {
    "duration": 23,
    "start_time": "2025-03-24T02:14:19.339Z"
   },
   {
    "duration": 13,
    "start_time": "2025-03-24T02:15:37.894Z"
   },
   {
    "duration": 419,
    "start_time": "2025-03-24T02:17:01.336Z"
   },
   {
    "duration": 3,
    "start_time": "2025-03-24T02:18:42.919Z"
   },
   {
    "duration": 8,
    "start_time": "2025-03-24T02:19:54.375Z"
   },
   {
    "duration": 1064,
    "start_time": "2025-03-24T02:31:34.977Z"
   },
   {
    "duration": 544,
    "start_time": "2025-03-24T02:31:36.043Z"
   },
   {
    "duration": 58,
    "start_time": "2025-03-24T02:31:36.589Z"
   },
   {
    "duration": 12,
    "start_time": "2025-03-24T02:31:36.649Z"
   },
   {
    "duration": 179,
    "start_time": "2025-03-24T02:31:36.663Z"
   },
   {
    "duration": 13,
    "start_time": "2025-03-24T02:31:36.844Z"
   },
   {
    "duration": 15,
    "start_time": "2025-03-24T02:31:36.859Z"
   },
   {
    "duration": 12,
    "start_time": "2025-03-24T02:31:36.876Z"
   },
   {
    "duration": 40,
    "start_time": "2025-03-24T02:31:36.890Z"
   },
   {
    "duration": 441,
    "start_time": "2025-03-24T02:31:36.932Z"
   },
   {
    "duration": 4,
    "start_time": "2025-03-24T02:31:37.375Z"
   },
   {
    "duration": 10,
    "start_time": "2025-03-24T02:31:37.381Z"
   },
   {
    "duration": 1104,
    "start_time": "2025-03-24T02:35:14.627Z"
   },
   {
    "duration": 514,
    "start_time": "2025-03-24T02:35:18.276Z"
   },
   {
    "duration": 51,
    "start_time": "2025-03-24T02:35:21.513Z"
   },
   {
    "duration": 13,
    "start_time": "2025-03-24T02:35:28.160Z"
   },
   {
    "duration": 172,
    "start_time": "2025-03-24T02:35:35.130Z"
   },
   {
    "duration": 13,
    "start_time": "2025-03-24T02:35:41.230Z"
   },
   {
    "duration": 13,
    "start_time": "2025-03-24T02:35:45.666Z"
   },
   {
    "duration": 11,
    "start_time": "2025-03-24T02:35:50.785Z"
   },
   {
    "duration": 19,
    "start_time": "2025-03-24T02:35:59.852Z"
   },
   {
    "duration": 448,
    "start_time": "2025-03-24T02:36:12.194Z"
   },
   {
    "duration": 3,
    "start_time": "2025-03-24T02:36:15.523Z"
   },
   {
    "duration": 7,
    "start_time": "2025-03-24T02:36:19.267Z"
   },
   {
    "duration": 1057,
    "start_time": "2025-03-24T02:40:01.480Z"
   },
   {
    "duration": 513,
    "start_time": "2025-03-24T02:40:02.540Z"
   },
   {
    "duration": 70,
    "start_time": "2025-03-24T02:40:03.055Z"
   },
   {
    "duration": 15,
    "start_time": "2025-03-24T02:40:03.127Z"
   },
   {
    "duration": 206,
    "start_time": "2025-03-24T02:40:03.146Z"
   },
   {
    "duration": 11,
    "start_time": "2025-03-24T02:40:03.354Z"
   },
   {
    "duration": 17,
    "start_time": "2025-03-24T02:40:03.368Z"
   },
   {
    "duration": 11,
    "start_time": "2025-03-24T02:40:03.387Z"
   },
   {
    "duration": 32,
    "start_time": "2025-03-24T02:40:03.400Z"
   },
   {
    "duration": 429,
    "start_time": "2025-03-24T02:40:03.434Z"
   },
   {
    "duration": 7,
    "start_time": "2025-03-24T02:40:03.865Z"
   },
   {
    "duration": 11,
    "start_time": "2025-03-24T02:40:03.874Z"
   },
   {
    "duration": 42943,
    "start_time": "2025-03-24T02:40:03.887Z"
   },
   {
    "duration": 21124,
    "start_time": "2025-03-24T02:45:04.322Z"
   },
   {
    "duration": 21217,
    "start_time": "2025-03-24T02:46:46.189Z"
   },
   {
    "duration": 11,
    "start_time": "2025-03-24T02:50:33.965Z"
   },
   {
    "duration": 1127,
    "start_time": "2025-03-24T03:08:08.063Z"
   },
   {
    "duration": 650,
    "start_time": "2025-03-24T03:08:13.300Z"
   },
   {
    "duration": 64,
    "start_time": "2025-03-24T03:08:17.213Z"
   },
   {
    "duration": 14,
    "start_time": "2025-03-24T03:08:22.318Z"
   },
   {
    "duration": 183,
    "start_time": "2025-03-24T03:08:27.648Z"
   },
   {
    "duration": 13,
    "start_time": "2025-03-24T03:08:32.092Z"
   },
   {
    "duration": 17,
    "start_time": "2025-03-24T03:08:35.817Z"
   },
   {
    "duration": 14,
    "start_time": "2025-03-24T03:08:38.860Z"
   },
   {
    "duration": 22,
    "start_time": "2025-03-24T03:10:36.377Z"
   },
   {
    "duration": 1577,
    "start_time": "2025-03-24T03:11:04.219Z"
   },
   {
    "duration": 1313,
    "start_time": "2025-03-24T03:12:14.427Z"
   },
   {
    "duration": 1539,
    "start_time": "2025-03-24T03:12:37.291Z"
   },
   {
    "duration": 490,
    "start_time": "2025-03-24T03:17:59.020Z"
   },
   {
    "duration": 3,
    "start_time": "2025-03-24T03:18:11.577Z"
   },
   {
    "duration": 8,
    "start_time": "2025-03-24T03:28:02.578Z"
   },
   {
    "duration": 44648,
    "start_time": "2025-03-24T03:28:10.976Z"
   },
   {
    "duration": 22195,
    "start_time": "2025-03-24T03:29:20.696Z"
   },
   {
    "duration": 11,
    "start_time": "2025-03-24T03:29:42.893Z"
   },
   {
    "duration": 920,
    "start_time": "2025-03-24T03:36:04.567Z"
   },
   {
    "duration": 4,
    "start_time": "2025-03-24T03:37:51.403Z"
   },
   {
    "duration": 10,
    "start_time": "2025-03-24T03:40:31.376Z"
   },
   {
    "duration": 21072,
    "start_time": "2025-03-24T03:41:03.342Z"
   },
   {
    "duration": 5,
    "start_time": "2025-03-24T03:42:51.905Z"
   },
   {
    "duration": 20398,
    "start_time": "2025-03-24T03:44:20.682Z"
   },
   {
    "duration": 1199,
    "start_time": "2025-03-24T03:54:23.392Z"
   },
   {
    "duration": 594,
    "start_time": "2025-03-24T03:54:24.593Z"
   },
   {
    "duration": 52,
    "start_time": "2025-03-24T03:54:25.189Z"
   },
   {
    "duration": 17,
    "start_time": "2025-03-24T03:54:25.244Z"
   },
   {
    "duration": 207,
    "start_time": "2025-03-24T03:54:25.264Z"
   },
   {
    "duration": 11,
    "start_time": "2025-03-24T03:54:25.473Z"
   },
   {
    "duration": 14,
    "start_time": "2025-03-24T03:54:25.486Z"
   },
   {
    "duration": 22,
    "start_time": "2025-03-24T03:54:25.502Z"
   },
   {
    "duration": 19,
    "start_time": "2025-03-24T03:54:25.526Z"
   },
   {
    "duration": 1481,
    "start_time": "2025-03-24T03:54:25.548Z"
   },
   {
    "duration": 1528,
    "start_time": "2025-03-24T03:54:27.031Z"
   },
   {
    "duration": 510,
    "start_time": "2025-03-24T03:54:28.561Z"
   },
   {
    "duration": 3,
    "start_time": "2025-03-24T03:54:29.073Z"
   },
   {
    "duration": 8,
    "start_time": "2025-03-24T03:54:29.078Z"
   },
   {
    "duration": 44725,
    "start_time": "2025-03-24T03:54:29.087Z"
   },
   {
    "duration": 21783,
    "start_time": "2025-03-24T03:55:13.814Z"
   },
   {
    "duration": 9,
    "start_time": "2025-03-24T03:55:35.599Z"
   },
   {
    "duration": 21,
    "start_time": "2025-03-24T03:55:35.609Z"
   },
   {
    "duration": 20559,
    "start_time": "2025-03-24T03:55:35.632Z"
   },
   {
    "duration": 87397,
    "start_time": "2025-03-24T03:55:56.194Z"
   },
   {
    "duration": 43338,
    "start_time": "2025-03-24T04:00:27.092Z"
   },
   {
    "duration": 119,
    "start_time": "2025-03-24T04:03:45.429Z"
   },
   {
    "duration": 10,
    "start_time": "2025-03-24T04:04:25.221Z"
   },
   {
    "duration": 4,
    "start_time": "2025-03-24T04:07:14.493Z"
   },
   {
    "duration": 3052,
    "start_time": "2025-03-25T01:48:06.431Z"
   },
   {
    "duration": 599,
    "start_time": "2025-03-25T01:52:16.494Z"
   },
   {
    "duration": 47,
    "start_time": "2025-03-25T01:52:43.961Z"
   },
   {
    "duration": 16,
    "start_time": "2025-03-25T01:53:36.724Z"
   },
   {
    "duration": 156,
    "start_time": "2025-03-25T01:54:15.760Z"
   },
   {
    "duration": 12,
    "start_time": "2025-03-25T01:54:31.450Z"
   },
   {
    "duration": 14,
    "start_time": "2025-03-25T01:54:45.296Z"
   },
   {
    "duration": 11,
    "start_time": "2025-03-25T01:54:54.441Z"
   },
   {
    "duration": 21,
    "start_time": "2025-03-25T02:00:10.178Z"
   },
   {
    "duration": 1381,
    "start_time": "2025-03-25T02:00:50.462Z"
   },
   {
    "duration": 1431,
    "start_time": "2025-03-25T02:01:55.491Z"
   },
   {
    "duration": 430,
    "start_time": "2025-03-25T02:05:48.355Z"
   },
   {
    "duration": 4,
    "start_time": "2025-03-25T02:10:16.868Z"
   },
   {
    "duration": 7,
    "start_time": "2025-03-25T02:10:45.357Z"
   },
   {
    "duration": 5,
    "start_time": "2025-03-25T02:12:26.489Z"
   },
   {
    "duration": 43379,
    "start_time": "2025-03-25T02:17:31.254Z"
   },
   {
    "duration": 20827,
    "start_time": "2025-03-25T02:21:19.914Z"
   },
   {
    "duration": 10,
    "start_time": "2025-03-25T02:22:55.213Z"
   },
   {
    "duration": 12,
    "start_time": "2025-03-25T02:24:11.759Z"
   },
   {
    "duration": 19420,
    "start_time": "2025-03-25T02:24:40.369Z"
   },
   {
    "duration": 84601,
    "start_time": "2025-03-25T02:28:20.469Z"
   },
   {
    "duration": 84568,
    "start_time": "2025-03-25T02:32:31.708Z"
   },
   {
    "duration": 46521,
    "start_time": "2025-03-25T02:39:04.924Z"
   },
   {
    "duration": 117,
    "start_time": "2025-03-25T02:41:59.728Z"
   },
   {
    "duration": 10,
    "start_time": "2025-03-25T02:42:50.031Z"
   },
   {
    "duration": 4,
    "start_time": "2025-03-25T02:43:19.330Z"
   },
   {
    "duration": 1002,
    "start_time": "2025-03-25T02:51:34.626Z"
   },
   {
    "duration": 505,
    "start_time": "2025-03-25T02:51:35.630Z"
   },
   {
    "duration": 46,
    "start_time": "2025-03-25T02:51:36.136Z"
   },
   {
    "duration": 12,
    "start_time": "2025-03-25T02:51:36.185Z"
   },
   {
    "duration": 178,
    "start_time": "2025-03-25T02:51:36.199Z"
   },
   {
    "duration": 11,
    "start_time": "2025-03-25T02:51:36.380Z"
   },
   {
    "duration": 12,
    "start_time": "2025-03-25T02:51:36.393Z"
   },
   {
    "duration": 10,
    "start_time": "2025-03-25T02:51:36.407Z"
   },
   {
    "duration": 34,
    "start_time": "2025-03-25T02:51:36.419Z"
   },
   {
    "duration": 1333,
    "start_time": "2025-03-25T02:51:36.456Z"
   },
   {
    "duration": 1354,
    "start_time": "2025-03-25T02:51:37.790Z"
   },
   {
    "duration": 509,
    "start_time": "2025-03-25T02:51:39.147Z"
   },
   {
    "duration": 4,
    "start_time": "2025-03-25T02:51:39.657Z"
   },
   {
    "duration": 7,
    "start_time": "2025-03-25T02:51:39.663Z"
   },
   {
    "duration": 41486,
    "start_time": "2025-03-25T02:51:39.672Z"
   },
   {
    "duration": 20671,
    "start_time": "2025-03-25T02:52:21.160Z"
   },
   {
    "duration": 19,
    "start_time": "2025-03-25T02:52:41.833Z"
   },
   {
    "duration": 16,
    "start_time": "2025-03-25T02:52:41.854Z"
   },
   {
    "duration": 19385,
    "start_time": "2025-03-25T02:52:41.872Z"
   },
   {
    "duration": 84584,
    "start_time": "2025-03-25T02:53:01.259Z"
   },
   {
    "duration": 43699,
    "start_time": "2025-03-25T02:54:25.844Z"
   },
   {
    "duration": 133,
    "start_time": "2025-03-25T02:55:09.545Z"
   },
   {
    "duration": 11,
    "start_time": "2025-03-25T02:55:09.679Z"
   },
   {
    "duration": 2909,
    "start_time": "2025-03-25T10:52:53.783Z"
   },
   {
    "duration": 657,
    "start_time": "2025-03-25T10:52:56.695Z"
   },
   {
    "duration": 53,
    "start_time": "2025-03-25T10:52:57.353Z"
   },
   {
    "duration": 14,
    "start_time": "2025-03-25T10:52:57.408Z"
   },
   {
    "duration": 172,
    "start_time": "2025-03-25T10:52:57.425Z"
   },
   {
    "duration": 12,
    "start_time": "2025-03-25T10:52:57.599Z"
   },
   {
    "duration": 14,
    "start_time": "2025-03-25T10:52:57.612Z"
   },
   {
    "duration": 11,
    "start_time": "2025-03-25T10:52:57.628Z"
   },
   {
    "duration": 40,
    "start_time": "2025-03-25T10:52:57.640Z"
   },
   {
    "duration": 1356,
    "start_time": "2025-03-25T10:52:57.682Z"
   },
   {
    "duration": 1465,
    "start_time": "2025-03-25T10:52:59.041Z"
   },
   {
    "duration": 429,
    "start_time": "2025-03-25T10:53:00.508Z"
   },
   {
    "duration": 4,
    "start_time": "2025-03-25T10:53:00.939Z"
   },
   {
    "duration": 6,
    "start_time": "2025-03-25T10:53:00.946Z"
   },
   {
    "duration": 23,
    "start_time": "2025-03-25T10:53:00.954Z"
   },
   {
    "duration": 3427,
    "start_time": "2025-03-26T02:48:43.653Z"
   },
   {
    "duration": 1030,
    "start_time": "2025-03-26T02:48:51.321Z"
   },
   {
    "duration": 91,
    "start_time": "2025-03-26T02:49:26.594Z"
   },
   {
    "duration": 29,
    "start_time": "2025-03-26T02:50:48.317Z"
   },
   {
    "duration": 206,
    "start_time": "2025-03-26T02:51:05.505Z"
   },
   {
    "duration": 14,
    "start_time": "2025-03-26T02:52:23.273Z"
   },
   {
    "duration": 16,
    "start_time": "2025-03-26T02:56:43.556Z"
   },
   {
    "duration": 12,
    "start_time": "2025-03-26T02:57:08.744Z"
   },
   {
    "duration": 12,
    "start_time": "2025-03-26T02:57:38.455Z"
   },
   {
    "duration": 30,
    "start_time": "2025-03-26T02:59:14.037Z"
   },
   {
    "duration": 11,
    "start_time": "2025-03-26T03:00:54.381Z"
   },
   {
    "duration": 2684,
    "start_time": "2025-03-26T03:06:40.653Z"
   },
   {
    "duration": 3122,
    "start_time": "2025-03-26T03:11:02.008Z"
   },
   {
    "duration": 330,
    "start_time": "2025-03-26T03:17:16.650Z"
   },
   {
    "duration": 6,
    "start_time": "2025-03-26T03:18:01.466Z"
   },
   {
    "duration": 7,
    "start_time": "2025-03-26T03:20:29.830Z"
   },
   {
    "duration": 1084,
    "start_time": "2025-03-26T03:26:32.326Z"
   },
   {
    "duration": 522,
    "start_time": "2025-03-26T03:26:36.524Z"
   },
   {
    "duration": 74,
    "start_time": "2025-03-26T03:26:41.124Z"
   },
   {
    "duration": 12,
    "start_time": "2025-03-26T03:27:26.720Z"
   },
   {
    "duration": 167,
    "start_time": "2025-03-26T03:27:32.857Z"
   },
   {
    "duration": 13,
    "start_time": "2025-03-26T03:27:49.434Z"
   },
   {
    "duration": 14,
    "start_time": "2025-03-26T03:28:01.912Z"
   },
   {
    "duration": 12,
    "start_time": "2025-03-26T03:28:05.053Z"
   },
   {
    "duration": 11,
    "start_time": "2025-03-26T03:30:31.539Z"
   },
   {
    "duration": 14,
    "start_time": "2025-03-26T03:30:56.819Z"
   },
   {
    "duration": 2844,
    "start_time": "2025-03-26T03:31:13.455Z"
   },
   {
    "duration": 3442,
    "start_time": "2025-03-26T03:32:10.338Z"
   },
   {
    "duration": 1143,
    "start_time": "2025-03-26T03:33:27.614Z"
   },
   {
    "duration": 2086,
    "start_time": "2025-03-26T03:34:21.572Z"
   },
   {
    "duration": 394,
    "start_time": "2025-03-26T03:37:40.114Z"
   },
   {
    "duration": 240,
    "start_time": "2025-03-26T03:38:13.750Z"
   },
   {
    "duration": 5,
    "start_time": "2025-03-26T03:40:58.387Z"
   },
   {
    "duration": 8,
    "start_time": "2025-03-26T03:42:57.542Z"
   },
   {
    "duration": 4,
    "start_time": "2025-03-26T03:44:43.424Z"
   },
   {
    "duration": 5,
    "start_time": "2025-03-26T03:44:57.200Z"
   },
   {
    "duration": 7,
    "start_time": "2025-03-26T03:47:06.851Z"
   },
   {
    "duration": 1058,
    "start_time": "2025-03-26T03:47:38.539Z"
   },
   {
    "duration": 539,
    "start_time": "2025-03-26T03:48:17.071Z"
   },
   {
    "duration": 78,
    "start_time": "2025-03-26T03:48:21.928Z"
   },
   {
    "duration": 12,
    "start_time": "2025-03-26T03:49:20.544Z"
   },
   {
    "duration": 165,
    "start_time": "2025-03-26T03:49:28.030Z"
   },
   {
    "duration": 13,
    "start_time": "2025-03-26T03:49:37.768Z"
   },
   {
    "duration": 15,
    "start_time": "2025-03-26T03:49:40.176Z"
   },
   {
    "duration": 13,
    "start_time": "2025-03-26T03:49:42.465Z"
   },
   {
    "duration": 11,
    "start_time": "2025-03-26T03:49:48.607Z"
   },
   {
    "duration": 16,
    "start_time": "2025-03-26T03:50:14.508Z"
   },
   {
    "duration": 2972,
    "start_time": "2025-03-26T03:50:20.383Z"
   },
   {
    "duration": 3515,
    "start_time": "2025-03-26T03:50:34.378Z"
   },
   {
    "duration": 2050,
    "start_time": "2025-03-26T03:50:42.554Z"
   },
   {
    "duration": 383,
    "start_time": "2025-03-26T03:50:54.168Z"
   },
   {
    "duration": 6,
    "start_time": "2025-03-26T03:50:58.462Z"
   },
   {
    "duration": 1133,
    "start_time": "2025-03-26T03:57:35.159Z"
   },
   {
    "duration": 520,
    "start_time": "2025-03-26T03:57:51.243Z"
   },
   {
    "duration": 83,
    "start_time": "2025-03-26T03:58:04.686Z"
   },
   {
    "duration": 12,
    "start_time": "2025-03-26T03:58:22.349Z"
   },
   {
    "duration": 157,
    "start_time": "2025-03-26T03:58:30.386Z"
   },
   {
    "duration": 12,
    "start_time": "2025-03-26T03:58:35.396Z"
   },
   {
    "duration": 15,
    "start_time": "2025-03-26T03:58:58.901Z"
   },
   {
    "duration": 12,
    "start_time": "2025-03-26T03:59:02.181Z"
   },
   {
    "duration": 11,
    "start_time": "2025-03-26T03:59:07.093Z"
   },
   {
    "duration": 14,
    "start_time": "2025-03-26T03:59:53.294Z"
   },
   {
    "duration": 2836,
    "start_time": "2025-03-26T04:00:20.704Z"
   },
   {
    "duration": 3301,
    "start_time": "2025-03-26T04:01:04.905Z"
   },
   {
    "duration": 2162,
    "start_time": "2025-03-26T04:01:30.334Z"
   },
   {
    "duration": 373,
    "start_time": "2025-03-26T04:02:12.826Z"
   },
   {
    "duration": 6,
    "start_time": "2025-03-26T04:02:50.242Z"
   },
   {
    "duration": 3,
    "start_time": "2025-03-26T04:05:29.757Z"
   },
   {
    "duration": 10,
    "start_time": "2025-03-26T04:09:17.738Z"
   },
   {
    "duration": 12,
    "start_time": "2025-03-26T04:14:21.530Z"
   },
   {
    "duration": 566,
    "start_time": "2025-03-26T04:14:41.238Z"
   },
   {
    "duration": 148594,
    "start_time": "2025-03-26T04:17:03.165Z"
   },
   {
    "duration": 3,
    "start_time": "2025-03-26T04:24:56.530Z"
   },
   {
    "duration": 10,
    "start_time": "2025-03-26T04:45:18.300Z"
   },
   {
    "duration": 3,
    "start_time": "2025-03-26T04:46:03.059Z"
   },
   {
    "duration": 3104,
    "start_time": "2025-03-27T01:16:38.332Z"
   },
   {
    "duration": 717,
    "start_time": "2025-03-27T01:16:41.438Z"
   },
   {
    "duration": 96,
    "start_time": "2025-03-27T01:16:42.157Z"
   },
   {
    "duration": 15,
    "start_time": "2025-03-27T01:16:42.256Z"
   },
   {
    "duration": 196,
    "start_time": "2025-03-27T01:16:42.273Z"
   },
   {
    "duration": 11,
    "start_time": "2025-03-27T01:16:42.471Z"
   },
   {
    "duration": 9,
    "start_time": "2025-03-27T01:16:42.484Z"
   },
   {
    "duration": 29,
    "start_time": "2025-03-27T01:16:42.495Z"
   },
   {
    "duration": 13,
    "start_time": "2025-03-27T01:16:42.526Z"
   },
   {
    "duration": 17,
    "start_time": "2025-03-27T01:16:42.542Z"
   },
   {
    "duration": 3140,
    "start_time": "2025-03-27T01:16:42.561Z"
   },
   {
    "duration": 3439,
    "start_time": "2025-03-27T01:16:45.703Z"
   },
   {
    "duration": 1944,
    "start_time": "2025-03-27T01:16:49.144Z"
   },
   {
    "duration": 498,
    "start_time": "2025-03-27T01:16:51.089Z"
   },
   {
    "duration": 7,
    "start_time": "2025-03-27T01:16:51.589Z"
   },
   {
    "duration": 5,
    "start_time": "2025-03-27T01:16:51.598Z"
   },
   {
    "duration": 26,
    "start_time": "2025-03-27T01:16:51.605Z"
   },
   {
    "duration": 12,
    "start_time": "2025-03-27T01:16:51.632Z"
   },
   {
    "duration": 378003,
    "start_time": "2025-03-27T01:16:51.645Z"
   },
   {
    "duration": 6,
    "start_time": "2025-03-27T01:23:09.652Z"
   },
   {
    "duration": 69,
    "start_time": "2025-03-27T01:23:09.660Z"
   },
   {
    "duration": 4,
    "start_time": "2025-03-27T01:23:09.731Z"
   },
   {
    "duration": 1118,
    "start_time": "2025-03-27T03:47:22.604Z"
   },
   {
    "duration": 598,
    "start_time": "2025-03-27T03:47:23.724Z"
   },
   {
    "duration": 75,
    "start_time": "2025-03-27T03:47:24.324Z"
   },
   {
    "duration": 30,
    "start_time": "2025-03-27T03:47:24.401Z"
   },
   {
    "duration": 170,
    "start_time": "2025-03-27T03:47:24.433Z"
   },
   {
    "duration": 12,
    "start_time": "2025-03-27T03:47:24.605Z"
   },
   {
    "duration": 20,
    "start_time": "2025-03-27T03:47:24.618Z"
   },
   {
    "duration": 8,
    "start_time": "2025-03-27T03:47:24.640Z"
   },
   {
    "duration": 12,
    "start_time": "2025-03-27T03:47:24.649Z"
   },
   {
    "duration": 10,
    "start_time": "2025-03-27T03:47:24.662Z"
   },
   {
    "duration": 12,
    "start_time": "2025-03-27T03:47:24.673Z"
   },
   {
    "duration": 2781,
    "start_time": "2025-03-27T03:47:24.686Z"
   },
   {
    "duration": 3419,
    "start_time": "2025-03-27T03:47:27.469Z"
   },
   {
    "duration": 1993,
    "start_time": "2025-03-27T03:47:30.892Z"
   },
   {
    "duration": 404,
    "start_time": "2025-03-27T03:47:32.887Z"
   },
   {
    "duration": 8,
    "start_time": "2025-03-27T03:47:33.292Z"
   },
   {
    "duration": 5,
    "start_time": "2025-03-27T03:47:33.301Z"
   },
   {
    "duration": 7,
    "start_time": "2025-03-27T03:47:33.307Z"
   },
   {
    "duration": 23,
    "start_time": "2025-03-27T03:47:33.316Z"
   },
   {
    "duration": 632,
    "start_time": "2025-03-27T03:47:33.341Z"
   },
   {
    "duration": 13,
    "start_time": "2025-03-27T03:49:17.036Z"
   },
   {
    "duration": 2732,
    "start_time": "2025-03-27T05:04:30.741Z"
   },
   {
    "duration": 634,
    "start_time": "2025-03-27T05:04:33.475Z"
   },
   {
    "duration": 86,
    "start_time": "2025-03-27T05:04:34.111Z"
   },
   {
    "duration": 12,
    "start_time": "2025-03-27T05:04:34.199Z"
   },
   {
    "duration": 175,
    "start_time": "2025-03-27T05:04:34.213Z"
   },
   {
    "duration": 12,
    "start_time": "2025-03-27T05:04:34.390Z"
   },
   {
    "duration": 8,
    "start_time": "2025-03-27T05:04:34.404Z"
   },
   {
    "duration": 9,
    "start_time": "2025-03-27T05:04:34.414Z"
   },
   {
    "duration": 12,
    "start_time": "2025-03-27T05:04:34.424Z"
   },
   {
    "duration": 35,
    "start_time": "2025-03-27T05:04:34.438Z"
   },
   {
    "duration": 13,
    "start_time": "2025-03-27T05:04:34.475Z"
   },
   {
    "duration": 2937,
    "start_time": "2025-03-27T05:04:34.489Z"
   },
   {
    "duration": 3249,
    "start_time": "2025-03-27T05:04:37.427Z"
   },
   {
    "duration": 1957,
    "start_time": "2025-03-27T05:04:40.681Z"
   },
   {
    "duration": 498,
    "start_time": "2025-03-27T05:04:42.640Z"
   },
   {
    "duration": 6,
    "start_time": "2025-03-27T05:04:43.140Z"
   },
   {
    "duration": 3,
    "start_time": "2025-03-27T05:04:43.148Z"
   },
   {
    "duration": 22,
    "start_time": "2025-03-27T05:04:43.153Z"
   },
   {
    "duration": 411,
    "start_time": "2025-03-27T05:04:43.178Z"
   },
   {
    "duration": 0,
    "start_time": "2025-03-27T05:04:43.592Z"
   },
   {
    "duration": 0,
    "start_time": "2025-03-27T05:04:43.593Z"
   },
   {
    "duration": 0,
    "start_time": "2025-03-27T05:04:43.595Z"
   },
   {
    "duration": 0,
    "start_time": "2025-03-27T05:04:43.596Z"
   },
   {
    "duration": 230,
    "start_time": "2025-03-27T05:07:11.091Z"
   },
   {
    "duration": 148760,
    "start_time": "2025-03-27T05:07:19.939Z"
   },
   {
    "duration": 4,
    "start_time": "2025-03-27T05:10:38.289Z"
   },
   {
    "duration": 8,
    "start_time": "2025-03-27T05:10:55.585Z"
   },
   {
    "duration": 3,
    "start_time": "2025-03-27T05:11:16.375Z"
   },
   {
    "duration": 1022,
    "start_time": "2025-03-27T05:13:01.242Z"
   },
   {
    "duration": 515,
    "start_time": "2025-03-27T05:13:02.266Z"
   },
   {
    "duration": 71,
    "start_time": "2025-03-27T05:13:02.783Z"
   },
   {
    "duration": 11,
    "start_time": "2025-03-27T05:13:02.870Z"
   },
   {
    "duration": 166,
    "start_time": "2025-03-27T05:13:02.882Z"
   },
   {
    "duration": 21,
    "start_time": "2025-03-27T05:13:03.049Z"
   },
   {
    "duration": 8,
    "start_time": "2025-03-27T05:13:03.072Z"
   },
   {
    "duration": 8,
    "start_time": "2025-03-27T05:13:03.082Z"
   },
   {
    "duration": 11,
    "start_time": "2025-03-27T05:13:03.091Z"
   },
   {
    "duration": 10,
    "start_time": "2025-03-27T05:13:03.105Z"
   },
   {
    "duration": 13,
    "start_time": "2025-03-27T05:13:03.117Z"
   },
   {
    "duration": 2762,
    "start_time": "2025-03-27T05:13:03.131Z"
   },
   {
    "duration": 3312,
    "start_time": "2025-03-27T05:13:05.895Z"
   },
   {
    "duration": 1942,
    "start_time": "2025-03-27T05:13:09.209Z"
   },
   {
    "duration": 384,
    "start_time": "2025-03-27T05:13:11.154Z"
   },
   {
    "duration": 6,
    "start_time": "2025-03-27T05:13:11.540Z"
   },
   {
    "duration": 3,
    "start_time": "2025-03-27T05:13:11.548Z"
   },
   {
    "duration": 22,
    "start_time": "2025-03-27T05:13:11.553Z"
   },
   {
    "duration": 180,
    "start_time": "2025-03-27T05:13:11.577Z"
   },
   {
    "duration": 150842,
    "start_time": "2025-03-27T05:13:11.759Z"
   },
   {
    "duration": 4,
    "start_time": "2025-03-27T05:15:42.604Z"
   },
   {
    "duration": 65,
    "start_time": "2025-03-27T05:15:42.609Z"
   },
   {
    "duration": 4,
    "start_time": "2025-03-27T05:15:42.675Z"
   },
   {
    "duration": 1021,
    "start_time": "2025-03-27T05:58:00.442Z"
   },
   {
    "duration": 516,
    "start_time": "2025-03-27T05:58:01.466Z"
   },
   {
    "duration": 87,
    "start_time": "2025-03-27T05:58:01.983Z"
   },
   {
    "duration": 12,
    "start_time": "2025-03-27T05:58:02.072Z"
   },
   {
    "duration": 165,
    "start_time": "2025-03-27T05:58:02.087Z"
   },
   {
    "duration": 21,
    "start_time": "2025-03-27T05:58:02.255Z"
   },
   {
    "duration": 8,
    "start_time": "2025-03-27T05:58:02.277Z"
   },
   {
    "duration": 7,
    "start_time": "2025-03-27T05:58:02.287Z"
   },
   {
    "duration": 11,
    "start_time": "2025-03-27T05:58:02.296Z"
   },
   {
    "duration": 10,
    "start_time": "2025-03-27T05:58:02.308Z"
   },
   {
    "duration": 13,
    "start_time": "2025-03-27T05:58:02.321Z"
   },
   {
    "duration": 2756,
    "start_time": "2025-03-27T05:58:02.336Z"
   },
   {
    "duration": 3434,
    "start_time": "2025-03-27T05:58:05.094Z"
   },
   {
    "duration": 1951,
    "start_time": "2025-03-27T05:58:08.532Z"
   },
   {
    "duration": 401,
    "start_time": "2025-03-27T05:58:10.486Z"
   },
   {
    "duration": 6,
    "start_time": "2025-03-27T05:58:10.889Z"
   },
   {
    "duration": 4,
    "start_time": "2025-03-27T05:58:10.897Z"
   },
   {
    "duration": 7,
    "start_time": "2025-03-27T05:58:10.903Z"
   },
   {
    "duration": 24,
    "start_time": "2025-03-27T05:58:10.911Z"
   },
   {
    "duration": 2006,
    "start_time": "2025-03-27T05:58:10.937Z"
   },
   {
    "duration": 0,
    "start_time": "2025-03-27T05:58:12.944Z"
   },
   {
    "duration": 0,
    "start_time": "2025-03-27T05:58:12.945Z"
   },
   {
    "duration": 0,
    "start_time": "2025-03-27T05:58:12.946Z"
   },
   {
    "duration": 996,
    "start_time": "2025-03-27T06:13:30.557Z"
   },
   {
    "duration": 495,
    "start_time": "2025-03-27T06:13:31.556Z"
   },
   {
    "duration": 77,
    "start_time": "2025-03-27T06:13:32.055Z"
   },
   {
    "duration": 11,
    "start_time": "2025-03-27T06:13:32.134Z"
   },
   {
    "duration": 181,
    "start_time": "2025-03-27T06:13:32.146Z"
   },
   {
    "duration": 12,
    "start_time": "2025-03-27T06:13:32.329Z"
   },
   {
    "duration": 8,
    "start_time": "2025-03-27T06:13:32.343Z"
   },
   {
    "duration": 23,
    "start_time": "2025-03-27T06:13:32.353Z"
   },
   {
    "duration": 12,
    "start_time": "2025-03-27T06:13:32.378Z"
   },
   {
    "duration": 10,
    "start_time": "2025-03-27T06:13:32.392Z"
   },
   {
    "duration": 12,
    "start_time": "2025-03-27T06:13:32.404Z"
   },
   {
    "duration": 2749,
    "start_time": "2025-03-27T06:13:32.418Z"
   },
   {
    "duration": 3356,
    "start_time": "2025-03-27T06:13:35.168Z"
   },
   {
    "duration": 2013,
    "start_time": "2025-03-27T06:13:38.526Z"
   },
   {
    "duration": 404,
    "start_time": "2025-03-27T06:13:40.541Z"
   },
   {
    "duration": 6,
    "start_time": "2025-03-27T06:13:40.947Z"
   },
   {
    "duration": 4,
    "start_time": "2025-03-27T06:13:40.955Z"
   },
   {
    "duration": 7,
    "start_time": "2025-03-27T06:13:40.970Z"
   },
   {
    "duration": 20,
    "start_time": "2025-03-27T06:13:40.979Z"
   },
   {
    "duration": 1106,
    "start_time": "2025-03-27T06:22:06.792Z"
   },
   {
    "duration": 502,
    "start_time": "2025-03-27T06:22:07.900Z"
   },
   {
    "duration": 78,
    "start_time": "2025-03-27T06:22:08.404Z"
   },
   {
    "duration": 11,
    "start_time": "2025-03-27T06:22:08.484Z"
   },
   {
    "duration": 179,
    "start_time": "2025-03-27T06:22:08.497Z"
   },
   {
    "duration": 13,
    "start_time": "2025-03-27T06:22:08.678Z"
   },
   {
    "duration": 10,
    "start_time": "2025-03-27T06:22:08.693Z"
   },
   {
    "duration": 9,
    "start_time": "2025-03-27T06:22:08.705Z"
   },
   {
    "duration": 13,
    "start_time": "2025-03-27T06:22:08.715Z"
   },
   {
    "duration": 40,
    "start_time": "2025-03-27T06:22:08.730Z"
   },
   {
    "duration": 15,
    "start_time": "2025-03-27T06:22:08.772Z"
   },
   {
    "duration": 2848,
    "start_time": "2025-03-27T06:22:08.789Z"
   },
   {
    "duration": 3449,
    "start_time": "2025-03-27T06:22:11.640Z"
   },
   {
    "duration": 2083,
    "start_time": "2025-03-27T06:22:15.093Z"
   },
   {
    "duration": 397,
    "start_time": "2025-03-27T06:22:17.178Z"
   },
   {
    "duration": 7,
    "start_time": "2025-03-27T06:22:17.577Z"
   },
   {
    "duration": 3,
    "start_time": "2025-03-27T06:22:17.586Z"
   },
   {
    "duration": 8,
    "start_time": "2025-03-27T06:22:17.591Z"
   },
   {
    "duration": 20,
    "start_time": "2025-03-27T06:22:17.600Z"
   },
   {
    "duration": 1034,
    "start_time": "2025-03-27T06:26:59.007Z"
   },
   {
    "duration": 527,
    "start_time": "2025-03-27T06:27:00.043Z"
   },
   {
    "duration": 69,
    "start_time": "2025-03-27T06:27:00.572Z"
   },
   {
    "duration": 32,
    "start_time": "2025-03-27T06:27:00.643Z"
   },
   {
    "duration": 166,
    "start_time": "2025-03-27T06:27:00.677Z"
   },
   {
    "duration": 12,
    "start_time": "2025-03-27T06:27:00.845Z"
   },
   {
    "duration": 16,
    "start_time": "2025-03-27T06:27:00.859Z"
   },
   {
    "duration": 8,
    "start_time": "2025-03-27T06:27:00.876Z"
   },
   {
    "duration": 12,
    "start_time": "2025-03-27T06:27:00.885Z"
   },
   {
    "duration": 10,
    "start_time": "2025-03-27T06:27:00.900Z"
   },
   {
    "duration": 13,
    "start_time": "2025-03-27T06:27:00.912Z"
   },
   {
    "duration": 2831,
    "start_time": "2025-03-27T06:27:00.926Z"
   },
   {
    "duration": 3401,
    "start_time": "2025-03-27T06:27:03.758Z"
   },
   {
    "duration": 1990,
    "start_time": "2025-03-27T06:27:07.161Z"
   },
   {
    "duration": 399,
    "start_time": "2025-03-27T06:27:09.153Z"
   },
   {
    "duration": 16,
    "start_time": "2025-03-27T06:27:09.554Z"
   },
   {
    "duration": 4,
    "start_time": "2025-03-27T06:27:09.571Z"
   },
   {
    "duration": 7,
    "start_time": "2025-03-27T06:27:09.576Z"
   },
   {
    "duration": 19,
    "start_time": "2025-03-27T06:27:09.585Z"
   },
   {
    "duration": 88484,
    "start_time": "2025-03-27T06:27:09.606Z"
   },
   {
    "duration": 79,
    "start_time": "2025-03-27T06:28:38.092Z"
   },
   {
    "duration": 8,
    "start_time": "2025-03-27T06:28:38.173Z"
   },
   {
    "duration": 4,
    "start_time": "2025-03-27T06:28:38.183Z"
   },
   {
    "duration": 1011,
    "start_time": "2025-03-27T06:36:37.338Z"
   },
   {
    "duration": 516,
    "start_time": "2025-03-27T06:36:38.352Z"
   },
   {
    "duration": 69,
    "start_time": "2025-03-27T06:36:38.870Z"
   },
   {
    "duration": 28,
    "start_time": "2025-03-27T06:36:38.942Z"
   },
   {
    "duration": 170,
    "start_time": "2025-03-27T06:36:38.972Z"
   },
   {
    "duration": 12,
    "start_time": "2025-03-27T06:36:39.144Z"
   },
   {
    "duration": 13,
    "start_time": "2025-03-27T06:36:39.158Z"
   },
   {
    "duration": 9,
    "start_time": "2025-03-27T06:36:39.172Z"
   },
   {
    "duration": 13,
    "start_time": "2025-03-27T06:36:39.183Z"
   },
   {
    "duration": 9,
    "start_time": "2025-03-27T06:36:39.200Z"
   },
   {
    "duration": 13,
    "start_time": "2025-03-27T06:36:39.211Z"
   },
   {
    "duration": 2852,
    "start_time": "2025-03-27T06:36:39.226Z"
   },
   {
    "duration": 3321,
    "start_time": "2025-03-27T06:36:42.080Z"
   },
   {
    "duration": 2038,
    "start_time": "2025-03-27T06:36:45.403Z"
   },
   {
    "duration": 387,
    "start_time": "2025-03-27T06:36:47.443Z"
   },
   {
    "duration": 6,
    "start_time": "2025-03-27T06:36:47.832Z"
   },
   {
    "duration": 3,
    "start_time": "2025-03-27T06:36:47.840Z"
   },
   {
    "duration": 7,
    "start_time": "2025-03-27T06:36:47.845Z"
   },
   {
    "duration": 24,
    "start_time": "2025-03-27T06:36:47.870Z"
   },
   {
    "duration": 70266,
    "start_time": "2025-03-27T06:36:47.896Z"
   },
   {
    "duration": 308,
    "start_time": "2025-03-27T06:37:58.163Z"
   },
   {
    "duration": 0,
    "start_time": "2025-03-27T06:37:58.472Z"
   },
   {
    "duration": 0,
    "start_time": "2025-03-27T06:37:58.473Z"
   },
   {
    "duration": 1052,
    "start_time": "2025-03-27T06:46:32.992Z"
   },
   {
    "duration": 516,
    "start_time": "2025-03-27T06:46:34.047Z"
   },
   {
    "duration": 67,
    "start_time": "2025-03-27T06:46:34.565Z"
   },
   {
    "duration": 11,
    "start_time": "2025-03-27T06:46:34.634Z"
   },
   {
    "duration": 176,
    "start_time": "2025-03-27T06:46:34.646Z"
   },
   {
    "duration": 12,
    "start_time": "2025-03-27T06:46:34.825Z"
   },
   {
    "duration": 8,
    "start_time": "2025-03-27T06:46:34.838Z"
   },
   {
    "duration": 28,
    "start_time": "2025-03-27T06:46:34.848Z"
   },
   {
    "duration": 14,
    "start_time": "2025-03-27T06:46:34.877Z"
   },
   {
    "duration": 10,
    "start_time": "2025-03-27T06:46:34.894Z"
   },
   {
    "duration": 13,
    "start_time": "2025-03-27T06:46:34.905Z"
   },
   {
    "duration": 2875,
    "start_time": "2025-03-27T06:46:34.920Z"
   },
   {
    "duration": 3220,
    "start_time": "2025-03-27T06:46:37.797Z"
   },
   {
    "duration": 1907,
    "start_time": "2025-03-27T06:46:41.020Z"
   },
   {
    "duration": 398,
    "start_time": "2025-03-27T06:46:42.929Z"
   },
   {
    "duration": 7,
    "start_time": "2025-03-27T06:46:43.328Z"
   },
   {
    "duration": 5,
    "start_time": "2025-03-27T06:46:43.336Z"
   },
   {
    "duration": 27,
    "start_time": "2025-03-27T06:46:43.343Z"
   },
   {
    "duration": 23,
    "start_time": "2025-03-27T06:46:43.372Z"
   },
   {
    "duration": 742,
    "start_time": "2025-03-27T06:46:43.397Z"
   },
   {
    "duration": 0,
    "start_time": "2025-03-27T06:46:44.142Z"
   },
   {
    "duration": 0,
    "start_time": "2025-03-27T06:46:44.143Z"
   },
   {
    "duration": 0,
    "start_time": "2025-03-27T06:46:44.145Z"
   },
   {
    "duration": 0,
    "start_time": "2025-03-27T06:46:44.146Z"
   },
   {
    "duration": 150,
    "start_time": "2025-03-27T06:50:45.980Z"
   },
   {
    "duration": 38,
    "start_time": "2025-03-27T06:53:19.222Z"
   },
   {
    "duration": 133,
    "start_time": "2025-03-27T06:53:52.138Z"
   },
   {
    "duration": 78,
    "start_time": "2025-03-27T06:56:31.067Z"
   },
   {
    "duration": 1048,
    "start_time": "2025-03-27T06:57:24.087Z"
   },
   {
    "duration": 499,
    "start_time": "2025-03-27T06:57:25.137Z"
   },
   {
    "duration": 77,
    "start_time": "2025-03-27T06:57:25.638Z"
   },
   {
    "duration": 11,
    "start_time": "2025-03-27T06:57:25.718Z"
   },
   {
    "duration": 180,
    "start_time": "2025-03-27T06:57:25.731Z"
   },
   {
    "duration": 17,
    "start_time": "2025-03-27T06:57:25.914Z"
   },
   {
    "duration": 9,
    "start_time": "2025-03-27T06:57:25.934Z"
   },
   {
    "duration": 30,
    "start_time": "2025-03-27T06:57:25.945Z"
   },
   {
    "duration": 15,
    "start_time": "2025-03-27T06:57:25.979Z"
   },
   {
    "duration": 14,
    "start_time": "2025-03-27T06:57:25.999Z"
   },
   {
    "duration": 16,
    "start_time": "2025-03-27T06:57:26.016Z"
   },
   {
    "duration": 3128,
    "start_time": "2025-03-27T06:57:26.035Z"
   },
   {
    "duration": 3316,
    "start_time": "2025-03-27T06:57:29.170Z"
   },
   {
    "duration": 2015,
    "start_time": "2025-03-27T06:57:32.487Z"
   },
   {
    "duration": 397,
    "start_time": "2025-03-27T06:57:34.505Z"
   },
   {
    "duration": 6,
    "start_time": "2025-03-27T06:57:34.904Z"
   },
   {
    "duration": 4,
    "start_time": "2025-03-27T06:57:34.912Z"
   },
   {
    "duration": 6,
    "start_time": "2025-03-27T06:57:34.918Z"
   },
   {
    "duration": 22,
    "start_time": "2025-03-27T06:57:34.926Z"
   },
   {
    "duration": 600,
    "start_time": "2025-03-27T06:57:34.970Z"
   },
   {
    "duration": 0,
    "start_time": "2025-03-27T06:57:35.572Z"
   },
   {
    "duration": 0,
    "start_time": "2025-03-27T06:57:35.574Z"
   },
   {
    "duration": 0,
    "start_time": "2025-03-27T06:57:35.575Z"
   },
   {
    "duration": 0,
    "start_time": "2025-03-27T06:57:35.577Z"
   },
   {
    "duration": 1060,
    "start_time": "2025-03-27T07:02:14.089Z"
   },
   {
    "duration": 507,
    "start_time": "2025-03-27T07:02:15.151Z"
   },
   {
    "duration": 73,
    "start_time": "2025-03-27T07:02:15.660Z"
   },
   {
    "duration": 12,
    "start_time": "2025-03-27T07:02:15.735Z"
   },
   {
    "duration": 178,
    "start_time": "2025-03-27T07:02:15.748Z"
   },
   {
    "duration": 12,
    "start_time": "2025-03-27T07:02:15.928Z"
   },
   {
    "duration": 8,
    "start_time": "2025-03-27T07:02:15.942Z"
   },
   {
    "duration": 25,
    "start_time": "2025-03-27T07:02:15.952Z"
   },
   {
    "duration": 11,
    "start_time": "2025-03-27T07:02:15.978Z"
   },
   {
    "duration": 9,
    "start_time": "2025-03-27T07:02:15.993Z"
   },
   {
    "duration": 13,
    "start_time": "2025-03-27T07:02:16.004Z"
   },
   {
    "duration": 2762,
    "start_time": "2025-03-27T07:02:16.018Z"
   },
   {
    "duration": 3320,
    "start_time": "2025-03-27T07:02:18.784Z"
   },
   {
    "duration": 1958,
    "start_time": "2025-03-27T07:02:22.105Z"
   },
   {
    "duration": 392,
    "start_time": "2025-03-27T07:02:24.065Z"
   },
   {
    "duration": 6,
    "start_time": "2025-03-27T07:02:24.459Z"
   },
   {
    "duration": 5,
    "start_time": "2025-03-27T07:02:24.466Z"
   },
   {
    "duration": 9,
    "start_time": "2025-03-27T07:02:24.472Z"
   },
   {
    "duration": 19,
    "start_time": "2025-03-27T07:02:24.482Z"
   },
   {
    "duration": 19,
    "start_time": "2025-03-27T07:02:24.504Z"
   },
   {
    "duration": 62,
    "start_time": "2025-03-27T07:02:24.525Z"
   },
   {
    "duration": 115687,
    "start_time": "2025-03-27T07:02:24.588Z"
   },
   {
    "duration": 332,
    "start_time": "2025-03-27T07:04:20.276Z"
   },
   {
    "duration": 0,
    "start_time": "2025-03-27T07:04:20.609Z"
   },
   {
    "duration": 0,
    "start_time": "2025-03-27T07:04:20.611Z"
   },
   {
    "duration": 1059,
    "start_time": "2025-03-27T07:18:27.982Z"
   },
   {
    "duration": 520,
    "start_time": "2025-03-27T07:18:29.044Z"
   },
   {
    "duration": 68,
    "start_time": "2025-03-27T07:18:29.566Z"
   },
   {
    "duration": 11,
    "start_time": "2025-03-27T07:18:29.637Z"
   },
   {
    "duration": 163,
    "start_time": "2025-03-27T07:18:29.669Z"
   },
   {
    "duration": 12,
    "start_time": "2025-03-27T07:18:29.834Z"
   },
   {
    "duration": 22,
    "start_time": "2025-03-27T07:18:29.848Z"
   },
   {
    "duration": 8,
    "start_time": "2025-03-27T07:18:29.872Z"
   },
   {
    "duration": 11,
    "start_time": "2025-03-27T07:18:29.882Z"
   },
   {
    "duration": 10,
    "start_time": "2025-03-27T07:18:29.896Z"
   },
   {
    "duration": 12,
    "start_time": "2025-03-27T07:18:29.907Z"
   },
   {
    "duration": 2665,
    "start_time": "2025-03-27T07:18:29.921Z"
   },
   {
    "duration": 3320,
    "start_time": "2025-03-27T07:18:32.588Z"
   },
   {
    "duration": 2025,
    "start_time": "2025-03-27T07:18:35.910Z"
   },
   {
    "duration": 386,
    "start_time": "2025-03-27T07:18:37.936Z"
   },
   {
    "duration": 6,
    "start_time": "2025-03-27T07:18:38.324Z"
   },
   {
    "duration": 5,
    "start_time": "2025-03-27T07:18:38.332Z"
   },
   {
    "duration": 8,
    "start_time": "2025-03-27T07:18:38.339Z"
   },
   {
    "duration": 30,
    "start_time": "2025-03-27T07:18:38.348Z"
   },
   {
    "duration": 27,
    "start_time": "2025-03-27T07:18:38.380Z"
   },
   {
    "duration": 1028,
    "start_time": "2025-03-27T07:23:36.538Z"
   },
   {
    "duration": 507,
    "start_time": "2025-03-27T07:23:37.568Z"
   },
   {
    "duration": 69,
    "start_time": "2025-03-27T07:23:38.076Z"
   },
   {
    "duration": 33,
    "start_time": "2025-03-27T07:23:38.148Z"
   },
   {
    "duration": 171,
    "start_time": "2025-03-27T07:23:38.183Z"
   },
   {
    "duration": 21,
    "start_time": "2025-03-27T07:23:38.356Z"
   },
   {
    "duration": 8,
    "start_time": "2025-03-27T07:23:38.379Z"
   },
   {
    "duration": 9,
    "start_time": "2025-03-27T07:23:38.389Z"
   },
   {
    "duration": 12,
    "start_time": "2025-03-27T07:23:38.399Z"
   },
   {
    "duration": 10,
    "start_time": "2025-03-27T07:23:38.415Z"
   },
   {
    "duration": 12,
    "start_time": "2025-03-27T07:23:38.426Z"
   },
   {
    "duration": 2733,
    "start_time": "2025-03-27T07:23:38.440Z"
   },
   {
    "duration": 3331,
    "start_time": "2025-03-27T07:23:41.176Z"
   },
   {
    "duration": 1942,
    "start_time": "2025-03-27T07:23:44.509Z"
   },
   {
    "duration": 418,
    "start_time": "2025-03-27T07:23:46.453Z"
   },
   {
    "duration": 8,
    "start_time": "2025-03-27T07:23:46.873Z"
   },
   {
    "duration": 4,
    "start_time": "2025-03-27T07:23:46.886Z"
   },
   {
    "duration": 8,
    "start_time": "2025-03-27T07:23:46.892Z"
   },
   {
    "duration": 11,
    "start_time": "2025-03-27T07:23:46.902Z"
   },
   {
    "duration": 57,
    "start_time": "2025-03-27T07:23:46.915Z"
   },
   {
    "duration": 199112,
    "start_time": "2025-03-27T07:23:46.974Z"
   },
   {
    "duration": 342,
    "start_time": "2025-03-27T07:27:06.088Z"
   },
   {
    "duration": 0,
    "start_time": "2025-03-27T07:27:06.433Z"
   },
   {
    "duration": 0,
    "start_time": "2025-03-27T07:27:06.434Z"
   },
   {
    "duration": 1097,
    "start_time": "2025-03-27T07:34:26.294Z"
   },
   {
    "duration": 516,
    "start_time": "2025-03-27T07:34:27.393Z"
   },
   {
    "duration": 77,
    "start_time": "2025-03-27T07:34:27.910Z"
   },
   {
    "duration": 11,
    "start_time": "2025-03-27T07:34:27.989Z"
   },
   {
    "duration": 176,
    "start_time": "2025-03-27T07:34:28.002Z"
   },
   {
    "duration": 14,
    "start_time": "2025-03-27T07:34:28.180Z"
   },
   {
    "duration": 8,
    "start_time": "2025-03-27T07:34:28.195Z"
   },
   {
    "duration": 8,
    "start_time": "2025-03-27T07:34:28.205Z"
   },
   {
    "duration": 11,
    "start_time": "2025-03-27T07:34:28.215Z"
   },
   {
    "duration": 12,
    "start_time": "2025-03-27T07:34:28.227Z"
   },
   {
    "duration": 43,
    "start_time": "2025-03-27T07:34:28.240Z"
   },
   {
    "duration": 2899,
    "start_time": "2025-03-27T07:34:28.284Z"
   },
   {
    "duration": 3370,
    "start_time": "2025-03-27T07:34:31.185Z"
   },
   {
    "duration": 2000,
    "start_time": "2025-03-27T07:34:34.560Z"
   },
   {
    "duration": 401,
    "start_time": "2025-03-27T07:34:36.562Z"
   },
   {
    "duration": 8,
    "start_time": "2025-03-27T07:34:36.965Z"
   },
   {
    "duration": 4,
    "start_time": "2025-03-27T07:34:36.975Z"
   },
   {
    "duration": 6,
    "start_time": "2025-03-27T07:34:36.983Z"
   },
   {
    "duration": 11,
    "start_time": "2025-03-27T07:34:36.991Z"
   },
   {
    "duration": 26,
    "start_time": "2025-03-27T07:34:37.006Z"
   },
   {
    "duration": 2671,
    "start_time": "2025-03-27T07:34:37.033Z"
   },
   {
    "duration": 0,
    "start_time": "2025-03-27T07:34:39.706Z"
   },
   {
    "duration": 0,
    "start_time": "2025-03-27T07:34:39.707Z"
   },
   {
    "duration": 0,
    "start_time": "2025-03-27T07:34:39.708Z"
   },
   {
    "duration": 1016,
    "start_time": "2025-03-27T07:57:58.426Z"
   },
   {
    "duration": 510,
    "start_time": "2025-03-27T07:57:59.444Z"
   },
   {
    "duration": 78,
    "start_time": "2025-03-27T07:57:59.955Z"
   },
   {
    "duration": 12,
    "start_time": "2025-03-27T07:58:00.034Z"
   },
   {
    "duration": 176,
    "start_time": "2025-03-27T07:58:00.049Z"
   },
   {
    "duration": 11,
    "start_time": "2025-03-27T07:58:00.227Z"
   },
   {
    "duration": 8,
    "start_time": "2025-03-27T07:58:00.240Z"
   },
   {
    "duration": 24,
    "start_time": "2025-03-27T07:58:00.250Z"
   },
   {
    "duration": 12,
    "start_time": "2025-03-27T07:58:00.276Z"
   },
   {
    "duration": 9,
    "start_time": "2025-03-27T07:58:00.290Z"
   },
   {
    "duration": 13,
    "start_time": "2025-03-27T07:58:00.301Z"
   },
   {
    "duration": 2787,
    "start_time": "2025-03-27T07:58:00.315Z"
   },
   {
    "duration": 3379,
    "start_time": "2025-03-27T07:58:03.104Z"
   },
   {
    "duration": 2049,
    "start_time": "2025-03-27T07:58:06.486Z"
   },
   {
    "duration": 393,
    "start_time": "2025-03-27T07:58:08.538Z"
   },
   {
    "duration": 6,
    "start_time": "2025-03-27T07:58:08.933Z"
   },
   {
    "duration": 3,
    "start_time": "2025-03-27T07:58:08.941Z"
   },
   {
    "duration": 24,
    "start_time": "2025-03-27T07:58:08.946Z"
   },
   {
    "duration": 13,
    "start_time": "2025-03-27T07:58:08.971Z"
   },
   {
    "duration": 618,
    "start_time": "2025-03-27T07:58:08.985Z"
   },
   {
    "duration": 0,
    "start_time": "2025-03-27T07:58:09.605Z"
   },
   {
    "duration": 0,
    "start_time": "2025-03-27T07:58:09.606Z"
   },
   {
    "duration": 0,
    "start_time": "2025-03-27T07:58:09.607Z"
   },
   {
    "duration": 2976,
    "start_time": "2025-03-28T02:07:21.307Z"
   },
   {
    "duration": 660,
    "start_time": "2025-03-28T02:07:24.285Z"
   },
   {
    "duration": 96,
    "start_time": "2025-03-28T02:07:24.947Z"
   },
   {
    "duration": 11,
    "start_time": "2025-03-28T02:07:25.046Z"
   },
   {
    "duration": 176,
    "start_time": "2025-03-28T02:07:25.059Z"
   },
   {
    "duration": 14,
    "start_time": "2025-03-28T02:07:25.237Z"
   },
   {
    "duration": 9,
    "start_time": "2025-03-28T02:07:25.253Z"
   },
   {
    "duration": 9,
    "start_time": "2025-03-28T02:07:25.263Z"
   },
   {
    "duration": 12,
    "start_time": "2025-03-28T02:07:25.273Z"
   },
   {
    "duration": 35,
    "start_time": "2025-03-28T02:07:25.289Z"
   },
   {
    "duration": 13,
    "start_time": "2025-03-28T02:07:25.326Z"
   },
   {
    "duration": 3089,
    "start_time": "2025-03-28T02:07:25.341Z"
   },
   {
    "duration": 3333,
    "start_time": "2025-03-28T02:07:28.432Z"
   },
   {
    "duration": 1997,
    "start_time": "2025-03-28T02:07:31.767Z"
   },
   {
    "duration": 507,
    "start_time": "2025-03-28T02:07:33.767Z"
   },
   {
    "duration": 7,
    "start_time": "2025-03-28T02:07:34.276Z"
   },
   {
    "duration": 3,
    "start_time": "2025-03-28T02:07:34.286Z"
   },
   {
    "duration": 7,
    "start_time": "2025-03-28T02:07:34.291Z"
   },
   {
    "duration": 25,
    "start_time": "2025-03-28T02:07:34.299Z"
   },
   {
    "duration": 633,
    "start_time": "2025-03-28T02:07:34.326Z"
   },
   {
    "duration": 0,
    "start_time": "2025-03-28T02:07:34.961Z"
   },
   {
    "duration": 0,
    "start_time": "2025-03-28T02:07:34.961Z"
   },
   {
    "duration": 0,
    "start_time": "2025-03-28T02:07:34.962Z"
   },
   {
    "duration": 1323,
    "start_time": "2025-03-28T02:17:17.598Z"
   },
   {
    "duration": 745,
    "start_time": "2025-03-28T02:17:18.924Z"
   },
   {
    "duration": 98,
    "start_time": "2025-03-28T02:17:19.672Z"
   },
   {
    "duration": 15,
    "start_time": "2025-03-28T02:17:19.773Z"
   },
   {
    "duration": 226,
    "start_time": "2025-03-28T02:17:19.791Z"
   },
   {
    "duration": 18,
    "start_time": "2025-03-28T02:17:20.024Z"
   },
   {
    "duration": 9,
    "start_time": "2025-03-28T02:17:20.044Z"
   },
   {
    "duration": 9,
    "start_time": "2025-03-28T02:17:20.055Z"
   },
   {
    "duration": 15,
    "start_time": "2025-03-28T02:17:20.066Z"
   },
   {
    "duration": 12,
    "start_time": "2025-03-28T02:17:20.085Z"
   },
   {
    "duration": 16,
    "start_time": "2025-03-28T02:17:20.124Z"
   },
   {
    "duration": 3611,
    "start_time": "2025-03-28T02:17:20.142Z"
   },
   {
    "duration": 4177,
    "start_time": "2025-03-28T02:17:23.755Z"
   },
   {
    "duration": 2490,
    "start_time": "2025-03-28T02:17:27.938Z"
   },
   {
    "duration": 565,
    "start_time": "2025-03-28T02:17:30.429Z"
   },
   {
    "duration": 7,
    "start_time": "2025-03-28T02:17:30.998Z"
   },
   {
    "duration": 4,
    "start_time": "2025-03-28T02:17:31.007Z"
   },
   {
    "duration": 9,
    "start_time": "2025-03-28T02:17:31.024Z"
   },
   {
    "duration": 8,
    "start_time": "2025-03-28T02:17:31.035Z"
   },
   {
    "duration": 967,
    "start_time": "2025-03-28T02:17:31.045Z"
   },
   {
    "duration": 0,
    "start_time": "2025-03-28T02:17:32.014Z"
   },
   {
    "duration": 0,
    "start_time": "2025-03-28T02:17:32.015Z"
   },
   {
    "duration": 0,
    "start_time": "2025-03-28T02:17:32.024Z"
   },
   {
    "duration": 1287,
    "start_time": "2025-03-28T02:20:47.707Z"
   },
   {
    "duration": 663,
    "start_time": "2025-03-28T02:20:48.998Z"
   },
   {
    "duration": 113,
    "start_time": "2025-03-28T02:20:49.667Z"
   },
   {
    "duration": 16,
    "start_time": "2025-03-28T02:20:49.783Z"
   },
   {
    "duration": 224,
    "start_time": "2025-03-28T02:20:49.801Z"
   },
   {
    "duration": 17,
    "start_time": "2025-03-28T02:20:50.027Z"
   },
   {
    "duration": 10,
    "start_time": "2025-03-28T02:20:50.046Z"
   },
   {
    "duration": 10,
    "start_time": "2025-03-28T02:20:50.058Z"
   },
   {
    "duration": 18,
    "start_time": "2025-03-28T02:20:50.070Z"
   },
   {
    "duration": 14,
    "start_time": "2025-03-28T02:20:50.091Z"
   },
   {
    "duration": 29,
    "start_time": "2025-03-28T02:20:50.108Z"
   },
   {
    "duration": 3749,
    "start_time": "2025-03-28T02:20:50.140Z"
   },
   {
    "duration": 4468,
    "start_time": "2025-03-28T02:20:53.895Z"
   },
   {
    "duration": 2540,
    "start_time": "2025-03-28T02:20:58.366Z"
   },
   {
    "duration": 579,
    "start_time": "2025-03-28T02:21:00.908Z"
   },
   {
    "duration": 8,
    "start_time": "2025-03-28T02:21:01.489Z"
   },
   {
    "duration": 4,
    "start_time": "2025-03-28T02:21:01.499Z"
   },
   {
    "duration": 25,
    "start_time": "2025-03-28T02:21:01.504Z"
   },
   {
    "duration": 8,
    "start_time": "2025-03-28T02:21:01.533Z"
   },
   {
    "duration": 402209,
    "start_time": "2025-03-28T02:21:01.543Z"
   },
   {
    "duration": 71,
    "start_time": "2025-03-28T02:27:43.754Z"
   },
   {
    "duration": 10,
    "start_time": "2025-03-28T02:27:43.828Z"
   },
   {
    "duration": 3,
    "start_time": "2025-03-28T02:27:43.840Z"
   },
   {
    "duration": 233,
    "start_time": "2025-03-28T02:39:34.499Z"
   },
   {
    "duration": 114,
    "start_time": "2025-03-28T02:40:22.850Z"
   },
   {
    "duration": 12,
    "start_time": "2025-03-28T02:41:08.126Z"
   },
   {
    "duration": 3,
    "start_time": "2025-03-28T02:42:02.911Z"
   },
   {
    "duration": 1034,
    "start_time": "2025-03-28T02:55:16.302Z"
   },
   {
    "duration": 559,
    "start_time": "2025-03-28T02:55:17.338Z"
   },
   {
    "duration": 90,
    "start_time": "2025-03-28T02:55:17.899Z"
   },
   {
    "duration": 14,
    "start_time": "2025-03-28T02:55:17.993Z"
   },
   {
    "duration": 191,
    "start_time": "2025-03-28T02:55:18.008Z"
   },
   {
    "duration": 11,
    "start_time": "2025-03-28T02:55:18.201Z"
   },
   {
    "duration": 9,
    "start_time": "2025-03-28T02:55:18.224Z"
   },
   {
    "duration": 8,
    "start_time": "2025-03-28T02:55:18.235Z"
   },
   {
    "duration": 12,
    "start_time": "2025-03-28T02:55:18.245Z"
   },
   {
    "duration": 13,
    "start_time": "2025-03-28T02:55:18.260Z"
   },
   {
    "duration": 15,
    "start_time": "2025-03-28T02:55:18.276Z"
   },
   {
    "duration": 2895,
    "start_time": "2025-03-28T02:55:18.293Z"
   },
   {
    "duration": 3661,
    "start_time": "2025-03-28T02:55:21.190Z"
   },
   {
    "duration": 2272,
    "start_time": "2025-03-28T02:55:24.852Z"
   },
   {
    "duration": 451,
    "start_time": "2025-03-28T02:55:27.126Z"
   },
   {
    "duration": 7,
    "start_time": "2025-03-28T02:55:27.579Z"
   },
   {
    "duration": 3,
    "start_time": "2025-03-28T02:55:27.588Z"
   },
   {
    "duration": 7,
    "start_time": "2025-03-28T02:55:27.593Z"
   },
   {
    "duration": 30,
    "start_time": "2025-03-28T02:55:27.602Z"
   },
   {
    "duration": 406816,
    "start_time": "2025-03-28T02:55:27.634Z"
   },
   {
    "duration": 3,
    "start_time": "2025-03-28T03:02:14.452Z"
   },
   {
    "duration": 70,
    "start_time": "2025-03-28T03:02:14.457Z"
   },
   {
    "duration": 3,
    "start_time": "2025-03-28T03:02:14.529Z"
   }
  ],
  "kernelspec": {
   "display_name": "base",
   "language": "python",
   "name": "python3"
  },
  "language_info": {
   "codemirror_mode": {
    "name": "ipython",
    "version": 3
   },
   "file_extension": ".py",
   "mimetype": "text/x-python",
   "name": "python",
   "nbconvert_exporter": "python",
   "pygments_lexer": "ipython3",
   "version": "3.12.7"
  },
  "toc": {
   "base_numbering": 1,
   "nav_menu": {},
   "number_sections": true,
   "sideBar": true,
   "skip_h1_title": true,
   "title_cell": "Table of Contents",
   "title_sidebar": "Contents",
   "toc_cell": false,
   "toc_position": {},
   "toc_section_display": true,
   "toc_window_display": false
  }
 },
 "nbformat": 4,
 "nbformat_minor": 2
}
